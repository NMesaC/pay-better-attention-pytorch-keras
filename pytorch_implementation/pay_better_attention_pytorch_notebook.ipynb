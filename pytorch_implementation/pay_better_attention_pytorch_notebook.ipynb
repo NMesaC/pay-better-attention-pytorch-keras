{
  "cells": [
    {
      "cell_type": "markdown",
      "source": [
        "The below cell has the Super Attention Layer that has a single W_a matrix managed by the Multi Head Attention Module. Run it if you want to use that version of Super Attention (all other attention layers are the same)"
      ],
      "metadata": {
        "id": "PbfyxKZ1__QU"
      }
    },
    {
      "cell_type": "code",
      "source": [
        "import math\n",
        "import torch\n",
        "from torch import nn\n",
        "\n",
        "class AttentionLayer(nn.Module):\n",
        "    def __init__(self,\n",
        "                 d_model : int,\n",
        "                 d_q : int,\n",
        "                 d_k : int,\n",
        "                 d_v : int,\n",
        "                 W_a : nn.Linear = None,\n",
        "                 layer_type : str = 'SDPA',\n",
        "                 idx : int = 0,\n",
        "                 max_len : int = 32):\n",
        "        super().__init__()\n",
        "        self.d_model    = d_model\n",
        "        self.d_q        = d_q\n",
        "        self.d_k        = d_k\n",
        "        self.d_v        = d_v\n",
        "        self.layer_type = layer_type\n",
        "        self.idx        = idx\n",
        "        self.max_len    = max_len\n",
        "        self.W_a        = W_a\n",
        "        self._set_layer_type()\n",
        "\n",
        "    def _set_layer_type(self):\n",
        "        self.softmax = nn.Softmax(dim = 1)\n",
        "        self.W_q     = nn.Linear(self.d_model,self.d_q)\n",
        "        nn.init.xavier_uniform_(self.W_q.weight)\n",
        "        nn.init.constant_(self.W_q.bias, 0)\n",
        "        if self.layer_type == 'Optimised':\n",
        "            self.W_k     = nn.Linear(self.d_model,self.d_k)\n",
        "            nn.init.xavier_uniform_(self.W_k.weight)\n",
        "            nn.init.constant_(self.W_k.bias, 0)\n",
        "            self.forward = self._forward_optimised\n",
        "        elif self.layer_type == 'Efficient':\n",
        "            self.forward = self._forward_efficient\n",
        "        elif self.layer_type == 'Super':\n",
        "            self.forward = self._forward_super\n",
        "        else:\n",
        "            # Default to SDPA\n",
        "            self.W_k     = nn.Linear(self.d_model,self.d_k)\n",
        "            self.W_v     = nn.Linear(self.d_model,self.d_v)\n",
        "            nn.init.xavier_uniform_(self.W_k.weight)\n",
        "            nn.init.constant_(self.W_k.bias, 0)\n",
        "            nn.init.xavier_uniform_(self.W_v.weight)\n",
        "            nn.init.constant_(self.W_v.bias, 0)\n",
        "            self.forward = self._forward_SDPA\n",
        "\n",
        "    def _forward_SDPA(self, inp_q, inp_k, inp_v):\n",
        "        Q     = self.W_q(inp_q)\n",
        "        K     = self.W_k(inp_k)\n",
        "        V     = self.W_v(inp_v)\n",
        "        K_t   = K.permute(0,2,1)\n",
        "        S     = self.softmax((Q @ K_t) / math.sqrt(self.d_q))\n",
        "        H     = S @ V\n",
        "        return H\n",
        "\n",
        "    def _forward_optimised(self, inp_q : torch.Tensor, inp_k : torch.Tensor, inp_v : torch.Tensor):\n",
        "        Q     = self.W_q(inp_q)\n",
        "        K     = self.W_k(inp_k)\n",
        "        K_t   = K.permute(0,2,1)\n",
        "        S     = self.softmax((Q @ K_t) / math.sqrt(self.d_q))\n",
        "        v_lo  = ((self.idx) * self.d_v)\n",
        "        v_hi  = ((self.idx + 1) * self.d_v)\n",
        "        V     = inp_v[:,:, v_lo : v_hi]\n",
        "        H     = S @ V\n",
        "        return H\n",
        "\n",
        "    def _forward_efficient(self, inp_q : torch.Tensor, inp_k : torch.Tensor, inp_v : torch.Tensor):\n",
        "        Q     = self.W_q(inp_q)\n",
        "        lo    = ((self.idx) * self.d_k)\n",
        "        hi    = ((self.idx + 1) * self.d_k)\n",
        "        K_t   = inp_k[:, :, lo : hi].permute(0,2,1)\n",
        "        S     = self.softmax((Q @ K_t) / math.sqrt(self.d_q))\n",
        "        V     = inp_v[:,:, lo : hi]\n",
        "        H     = S @ V\n",
        "        return H\n",
        "\n",
        "    def _forward_super(self, inp_q : torch.Tensor, inp_k : torch.Tensor, inp_v : torch.Tensor):\n",
        "        Q     = self.W_q(inp_q)\n",
        "        lo    = ((self.idx) * self.d_k)\n",
        "        hi    = ((self.idx + 1) * self.d_k)\n",
        "        K_t   = inp_k[:, :, lo : hi].permute(0,2,1)\n",
        "        S     = self.softmax((Q @ K_t) / math.sqrt(self.d_q))\n",
        "        V     = self.W_a(inp_v[:,:, lo : hi].permute(0,2,1)).permute(0,2,1)\n",
        "        H     = S @ V\n",
        "        return H\n",
        "\n",
        "class MultiHeadAttention(nn.Module):\n",
        "    def __init__(self, n_heads, d_model, d_k, d_v, max_len, layer_type):\n",
        "        super().__init__()\n",
        "        self.layers  = nn.Sequential()\n",
        "        self.n_heads = n_heads\n",
        "        self.d_model = d_model\n",
        "        self.d_k     = d_k\n",
        "        self.d_v     = d_v\n",
        "        self.W_a     = None\n",
        "        if layer_type == 'Super':\n",
        "            self.W_a = nn.Linear(max_len,max_len)\n",
        "            nn.init.xavier_uniform_(self.W_a.weight)\n",
        "            nn.init.constant_(self.W_a.bias, 0)\n",
        "        for i in range(n_heads):\n",
        "            self.layers.add_module(\"Attention_Layer \"+str(i),\n",
        "                                   AttentionLayer(d_model,d_k,d_k,d_v,self.W_a,layer_type,i,max_len))\n",
        "        self.W_o     = nn.Linear(n_heads * d_v, d_model)\n",
        "\n",
        "    def forward(self, inp_q, inp_k, inp_v):\n",
        "        for i, layer in enumerate(self.layers):\n",
        "            if i == 0:\n",
        "                H = layer(inp_q,inp_k,inp_v)\n",
        "            else:\n",
        "                h_i = layer(inp_q,inp_k,inp_v)\n",
        "                h_cat = (H.clone(),h_i)\n",
        "                H = torch.cat(h_cat,2)\n",
        "        out = self.W_o(H)\n",
        "        return out"
      ],
      "metadata": {
        "id": "e19p294QAA9K"
      },
      "execution_count": 1,
      "outputs": []
    },
    {
      "cell_type": "markdown",
      "source": [
        "The below cell has the Super Attention Layer that has a single W_a matrix FOR EACH Super Attention Layer, independent of the Multi Head Attention Module. Run it if you want to use that version of Super Attention (all other attention layers are the same)"
      ],
      "metadata": {
        "id": "kGqb6eTcAKX2"
      }
    },
    {
      "cell_type": "code",
      "source": [
        "import math\n",
        "import torch\n",
        "from torch import nn\n",
        "\n",
        "class AttentionLayer(nn.Module):\n",
        "    def __init__(self,\n",
        "                 d_model : int,\n",
        "                 d_q : int,\n",
        "                 d_k : int,\n",
        "                 d_v : int,\n",
        "                 layer_type : str = 'SDPA',\n",
        "                 idx : int = 0,\n",
        "                 max_len : int = 32):\n",
        "        super().__init__()\n",
        "        self.d_model    = d_model\n",
        "        self.d_q        = d_q\n",
        "        self.d_k        = d_k\n",
        "        self.d_v        = d_v\n",
        "        self.layer_type = layer_type\n",
        "        self.idx        = idx\n",
        "        self.max_len    = max_len\n",
        "        self._set_layer_type()\n",
        "\n",
        "\n",
        "    def _set_layer_type(self):\n",
        "        self.softmax = nn.Softmax(dim = 1)\n",
        "        self.W_q     = nn.Linear(self.d_model,self.d_q)\n",
        "        nn.init.xavier_uniform_(self.W_q.weight)\n",
        "        nn.init.constant_(self.W_q.bias, 0)\n",
        "        if self.layer_type == 'Optimised':\n",
        "            self.W_k     = nn.Linear(self.d_model,self.d_k)\n",
        "            nn.init.xavier_uniform_(self.W_k.weight)\n",
        "            nn.init.constant_(self.W_k.bias, 0)\n",
        "            self.forward = self._forward_optimised\n",
        "        elif self.layer_type == 'Efficient':\n",
        "            self.forward = self._forward_efficient\n",
        "        elif self.layer_type == 'Super':\n",
        "            self.forward = self._forward_super\n",
        "            self.W_a     = nn.Linear(self.max_len,self.max_len)\n",
        "            nn.init.xavier_uniform_(self.W_a.weight)\n",
        "            nn.init.constant_(self.W_a.bias, 0)\n",
        "        else:\n",
        "            # Default to SDPA\n",
        "            self.W_k     = nn.Linear(self.d_model,self.d_k)\n",
        "            self.W_v     = nn.Linear(self.d_model,self.d_v)\n",
        "            nn.init.xavier_uniform_(self.W_k.weight)\n",
        "            nn.init.constant_(self.W_k.bias, 0)\n",
        "            nn.init.xavier_uniform_(self.W_v.weight)\n",
        "            nn.init.constant_(self.W_v.bias, 0)\n",
        "            self.forward = self._forward_SDPA\n",
        "\n",
        "    def _forward_SDPA(self, inp_q, inp_k, inp_v):\n",
        "        Q     = self.W_q(inp_q)\n",
        "        K     = self.W_k(inp_k)\n",
        "        V     = self.W_v(inp_v)\n",
        "        K_t   = K.permute(0,2,1)\n",
        "        S     = self.softmax((Q @ K_t) / math.sqrt(self.d_q))\n",
        "        H     = S @ V\n",
        "        return H\n",
        "\n",
        "    def _forward_optimised(self, inp_q : torch.Tensor, inp_k : torch.Tensor, inp_v : torch.Tensor):\n",
        "        Q     = self.W_q(inp_q)\n",
        "        K     = self.W_k(inp_k)\n",
        "        K_t   = K.permute(0,2,1)\n",
        "        S     = self.softmax((Q @ K_t) / math.sqrt(self.d_q))\n",
        "        v_lo  = ((self.idx) * self.d_v)\n",
        "        v_hi  = ((self.idx + 1) * self.d_v)\n",
        "        V     = inp_v[:,:, v_lo : v_hi]\n",
        "        H     = S @ V\n",
        "        return H\n",
        "\n",
        "    def _forward_efficient(self, inp_q : torch.Tensor, inp_k : torch.Tensor, inp_v : torch.Tensor):\n",
        "        Q     = self.W_q(inp_q)\n",
        "        lo    = ((self.idx) * self.d_k)\n",
        "        hi    = ((self.idx + 1) * self.d_k)\n",
        "        K_t   = inp_k[:, :, lo : hi].permute(0,2,1)\n",
        "        S     = self.softmax((Q @ K_t) / math.sqrt(self.d_q))\n",
        "        V     = inp_v[:,:, lo : hi]\n",
        "        H     = S @ V\n",
        "        return H\n",
        "\n",
        "    def _forward_super(self, inp_q : torch.Tensor, inp_k : torch.Tensor, inp_v : torch.Tensor):\n",
        "        Q     = self.W_q(inp_q)\n",
        "        lo    = ((self.idx) * self.d_k)\n",
        "        hi    = ((self.idx + 1) * self.d_k)\n",
        "        K_t   = inp_k[:, :, lo : hi].permute(0,2,1)\n",
        "        S     = self.softmax((Q @ K_t) / math.sqrt(self.d_q))\n",
        "        V     = self.W_a(inp_v[:,:, lo : hi].permute(0,2,1)).permute(0,2,1)\n",
        "        H     = S @ V\n",
        "        return H\n",
        "\n",
        "\n",
        "class MultiHeadAttention(nn.Module):\n",
        "    def __init__(self, n_heads, d_model, d_k, d_v, max_len, layer_type):\n",
        "        super().__init__()\n",
        "        self.layers  = nn.Sequential()\n",
        "        self.n_heads = n_heads\n",
        "        self.d_model = d_model\n",
        "        self.d_k     = d_k\n",
        "        self.d_v     = d_v\n",
        "        for i in range(n_heads):\n",
        "            self.layers.add_module(\"Attention_Layer \"+str(i),\n",
        "                                   AttentionLayer(d_model,d_k,d_k,d_v,layer_type,i,max_len))\n",
        "        self.W_o     = nn.Linear(n_heads * d_v, d_model)\n",
        "\n",
        "    def forward(self, inp_q, inp_k, inp_v):\n",
        "        for i, layer in enumerate(self.layers):\n",
        "            if i == 0:\n",
        "                H = layer(inp_q,inp_k,inp_v)\n",
        "            else:\n",
        "                h_i = layer(inp_q,inp_k,inp_v)\n",
        "                h_cat = (H.clone(),h_i)\n",
        "                H = torch.cat(h_cat,2)\n",
        "        out = self.W_o(H)\n",
        "        return out"
      ],
      "metadata": {
        "id": "5Yuu4IRWAP7Q"
      },
      "execution_count": null,
      "outputs": []
    },
    {
      "cell_type": "markdown",
      "source": [
        "The next cell initializes the Dataloader and runs the main script. Remember to download the IMDB_dataset.csv file from the github repo and either upload it to google colab or to have it in the same working directory locally."
      ],
      "metadata": {
        "id": "yWtFbbghAkpc"
      }
    },
    {
      "cell_type": "code",
      "execution_count": null,
      "metadata": {
        "colab": {
          "base_uri": "https://localhost:8080/"
        },
        "id": "xJoYVz4170yd",
        "outputId": "db362b96-cdd2-4089-c3bc-39925c9dbced"
      },
      "outputs": [
        {
          "output_type": "stream",
          "name": "stdout",
          "text": [
            "Working with layer type: SDPA\n"
          ]
        },
        {
          "output_type": "stream",
          "name": "stderr",
          "text": [
            "Training Epoch: 0: 100%|██████████| 625/625 [00:06<00:00, 98.33it/s] \n",
            "Test Epoch: 0: 100%|██████████| 63/63 [00:00<00:00, 313.03it/s]\n"
          ]
        },
        {
          "output_type": "stream",
          "name": "stdout",
          "text": [
            " Epoch 0: Train loss: 0.6637 |  Train acc: 0.5527 |                 Val loss: 0.6217 | Val acc: 0.6515\n"
          ]
        },
        {
          "output_type": "stream",
          "name": "stderr",
          "text": [
            "Training Epoch: 1: 100%|██████████| 625/625 [00:05<00:00, 113.81it/s]\n",
            "Test Epoch: 1: 100%|██████████| 63/63 [00:00<00:00, 320.01it/s]\n"
          ]
        },
        {
          "output_type": "stream",
          "name": "stdout",
          "text": [
            " Epoch 1: Train loss: 0.573 |  Train acc: 0.6878 |                 Val loss: 0.5672 | Val acc: 0.6905\n"
          ]
        },
        {
          "output_type": "stream",
          "name": "stderr",
          "text": [
            "Training Epoch: 2: 100%|██████████| 625/625 [00:06<00:00, 97.14it/s] \n",
            "Test Epoch: 2: 100%|██████████| 63/63 [00:00<00:00, 277.31it/s]\n"
          ]
        },
        {
          "output_type": "stream",
          "name": "stdout",
          "text": [
            " Epoch 2: Train loss: 0.5118 |  Train acc: 0.7399 |                 Val loss: 0.5506 | Val acc: 0.7015\n"
          ]
        },
        {
          "output_type": "stream",
          "name": "stderr",
          "text": [
            "Training Epoch: 3: 100%|██████████| 625/625 [00:05<00:00, 106.83it/s]\n",
            "Test Epoch: 3: 100%|██████████| 63/63 [00:00<00:00, 166.73it/s]\n"
          ]
        },
        {
          "output_type": "stream",
          "name": "stdout",
          "text": [
            " Epoch 3: Train loss: 0.464 |  Train acc: 0.777 |                 Val loss: 0.5512 | Val acc: 0.7148\n"
          ]
        },
        {
          "output_type": "stream",
          "name": "stderr",
          "text": [
            "Training Epoch: 4: 100%|██████████| 625/625 [00:06<00:00, 96.86it/s] \n",
            "Test Epoch: 4: 100%|██████████| 63/63 [00:00<00:00, 301.29it/s]\n"
          ]
        },
        {
          "output_type": "stream",
          "name": "stdout",
          "text": [
            " Epoch 4: Train loss: 0.4183 |  Train acc: 0.8081 |                 Val loss: 0.5604 | Val acc: 0.721\n"
          ]
        },
        {
          "output_type": "stream",
          "name": "stderr",
          "text": [
            "Training Epoch: 5: 100%|██████████| 625/625 [00:05<00:00, 111.36it/s]\n",
            "Test Epoch: 5: 100%|██████████| 63/63 [00:00<00:00, 285.81it/s]\n"
          ]
        },
        {
          "output_type": "stream",
          "name": "stdout",
          "text": [
            " Epoch 5: Train loss: 0.3787 |  Train acc: 0.8347 |                 Val loss: 0.5807 | Val acc: 0.7255\n"
          ]
        },
        {
          "output_type": "stream",
          "name": "stderr",
          "text": [
            "Training Epoch: 6: 100%|██████████| 625/625 [00:06<00:00, 97.27it/s] \n",
            "Test Epoch: 6: 100%|██████████| 63/63 [00:00<00:00, 308.43it/s]\n"
          ]
        },
        {
          "output_type": "stream",
          "name": "stdout",
          "text": [
            " Epoch 6: Train loss: 0.335 |  Train acc: 0.8621 |                 Val loss: 0.6224 | Val acc: 0.7248\n"
          ]
        },
        {
          "output_type": "stream",
          "name": "stderr",
          "text": [
            "Training Epoch: 7: 100%|██████████| 625/625 [00:05<00:00, 112.12it/s]\n",
            "Test Epoch: 7: 100%|██████████| 63/63 [00:00<00:00, 294.52it/s]\n"
          ]
        },
        {
          "output_type": "stream",
          "name": "stdout",
          "text": [
            " Epoch 7: Train loss: 0.2974 |  Train acc: 0.8831 |                 Val loss: 0.6721 | Val acc: 0.7258\n"
          ]
        },
        {
          "output_type": "stream",
          "name": "stderr",
          "text": [
            "Training Epoch: 8: 100%|██████████| 625/625 [00:06<00:00, 96.46it/s] \n",
            "Test Epoch: 8: 100%|██████████| 63/63 [00:00<00:00, 305.85it/s]\n"
          ]
        },
        {
          "output_type": "stream",
          "name": "stdout",
          "text": [
            " Epoch 8: Train loss: 0.2612 |  Train acc: 0.9015 |                 Val loss: 0.7337 | Val acc: 0.726\n"
          ]
        },
        {
          "output_type": "stream",
          "name": "stderr",
          "text": [
            "Training Epoch: 9: 100%|██████████| 625/625 [00:05<00:00, 113.95it/s]\n",
            "Test Epoch: 9: 100%|██████████| 63/63 [00:00<00:00, 278.53it/s]\n"
          ]
        },
        {
          "output_type": "stream",
          "name": "stdout",
          "text": [
            " Epoch 9: Train loss: 0.2334 |  Train acc: 0.9154 |                 Val loss: 0.7575 | Val acc: 0.718\n"
          ]
        },
        {
          "output_type": "stream",
          "name": "stderr",
          "text": [
            "Test Epoch: 8: 100%|██████████| 94/94 [00:00<00:00, 315.09it/s]\n"
          ]
        },
        {
          "output_type": "stream",
          "name": "stdout",
          "text": [
            "Best Model: Test Acc 0.7233332991600037 | Test Loss 0.7258501052856445 \n",
            "\n",
            "Working with layer type: SDPA\n"
          ]
        },
        {
          "output_type": "stream",
          "name": "stderr",
          "text": [
            "Training Epoch: 0: 100%|██████████| 625/625 [00:06<00:00, 96.18it/s] \n",
            "Test Epoch: 0: 100%|██████████| 63/63 [00:00<00:00, 296.45it/s]\n"
          ]
        },
        {
          "output_type": "stream",
          "name": "stdout",
          "text": [
            " Epoch 0: Train loss: 0.6906 |  Train acc: 0.5074 |                 Val loss: 0.6651 | Val acc: 0.5768\n"
          ]
        },
        {
          "output_type": "stream",
          "name": "stderr",
          "text": [
            "Training Epoch: 1: 100%|██████████| 625/625 [00:06<00:00, 99.94it/s] \n",
            "Test Epoch: 1: 100%|██████████| 63/63 [00:00<00:00, 273.27it/s]\n"
          ]
        },
        {
          "output_type": "stream",
          "name": "stdout",
          "text": [
            " Epoch 1: Train loss: 0.6324 |  Train acc: 0.6362 |                 Val loss: 0.5989 | Val acc: 0.6765\n"
          ]
        },
        {
          "output_type": "stream",
          "name": "stderr",
          "text": [
            "Training Epoch: 2: 100%|██████████| 625/625 [00:06<00:00, 95.50it/s] \n",
            "Test Epoch: 2: 100%|██████████| 63/63 [00:00<00:00, 299.00it/s]\n"
          ]
        },
        {
          "output_type": "stream",
          "name": "stdout",
          "text": [
            " Epoch 2: Train loss: 0.5622 |  Train acc: 0.7139 |                 Val loss: 0.5728 | Val acc: 0.6823\n"
          ]
        },
        {
          "output_type": "stream",
          "name": "stderr",
          "text": [
            "Training Epoch: 3: 100%|██████████| 625/625 [00:05<00:00, 110.27it/s]\n",
            "Test Epoch: 3: 100%|██████████| 63/63 [00:00<00:00, 293.92it/s]\n"
          ]
        },
        {
          "output_type": "stream",
          "name": "stdout",
          "text": [
            " Epoch 3: Train loss: 0.5082 |  Train acc: 0.7572 |                 Val loss: 0.5601 | Val acc: 0.723\n"
          ]
        },
        {
          "output_type": "stream",
          "name": "stderr",
          "text": [
            "Training Epoch: 4: 100%|██████████| 625/625 [00:06<00:00, 95.06it/s] \n",
            "Test Epoch: 4: 100%|██████████| 63/63 [00:00<00:00, 319.21it/s]\n"
          ]
        },
        {
          "output_type": "stream",
          "name": "stdout",
          "text": [
            " Epoch 4: Train loss: 0.4605 |  Train acc: 0.7907 |                 Val loss: 0.5714 | Val acc: 0.7248\n"
          ]
        },
        {
          "output_type": "stream",
          "name": "stderr",
          "text": [
            "Training Epoch: 5: 100%|██████████| 625/625 [00:05<00:00, 111.04it/s]\n",
            "Test Epoch: 5: 100%|██████████| 63/63 [00:00<00:00, 297.93it/s]\n"
          ]
        },
        {
          "output_type": "stream",
          "name": "stdout",
          "text": [
            " Epoch 5: Train loss: 0.4177 |  Train acc: 0.8205 |                 Val loss: 0.6058 | Val acc: 0.725\n"
          ]
        },
        {
          "output_type": "stream",
          "name": "stderr",
          "text": [
            "Training Epoch: 6: 100%|██████████| 625/625 [00:06<00:00, 94.01it/s] \n",
            "Test Epoch: 6: 100%|██████████| 63/63 [00:00<00:00, 296.07it/s]\n"
          ]
        },
        {
          "output_type": "stream",
          "name": "stdout",
          "text": [
            " Epoch 6: Train loss: 0.3765 |  Train acc: 0.8448 |                 Val loss: 0.6148 | Val acc: 0.712\n"
          ]
        },
        {
          "output_type": "stream",
          "name": "stderr",
          "text": [
            "Training Epoch: 7: 100%|██████████| 625/625 [00:05<00:00, 110.78it/s]\n",
            "Test Epoch: 7: 100%|██████████| 63/63 [00:00<00:00, 286.00it/s]\n"
          ]
        },
        {
          "output_type": "stream",
          "name": "stdout",
          "text": [
            " Epoch 7: Train loss: 0.3397 |  Train acc: 0.867 |                 Val loss: 0.6921 | Val acc: 0.719\n"
          ]
        },
        {
          "output_type": "stream",
          "name": "stderr",
          "text": [
            "Training Epoch: 8: 100%|██████████| 625/625 [00:06<00:00, 94.57it/s] \n",
            "Test Epoch: 8: 100%|██████████| 63/63 [00:00<00:00, 297.67it/s]\n"
          ]
        },
        {
          "output_type": "stream",
          "name": "stdout",
          "text": [
            " Epoch 8: Train loss: 0.3059 |  Train acc: 0.8859 |                 Val loss: 0.7466 | Val acc: 0.722\n"
          ]
        },
        {
          "output_type": "stream",
          "name": "stderr",
          "text": [
            "Training Epoch: 9: 100%|██████████| 625/625 [00:05<00:00, 110.68it/s]\n",
            "Test Epoch: 9: 100%|██████████| 63/63 [00:00<00:00, 293.83it/s]\n"
          ]
        },
        {
          "output_type": "stream",
          "name": "stdout",
          "text": [
            " Epoch 9: Train loss: 0.2832 |  Train acc: 0.8987 |                 Val loss: 0.7928 | Val acc: 0.7265\n"
          ]
        },
        {
          "output_type": "stream",
          "name": "stderr",
          "text": [
            "Test Epoch: 9: 100%|██████████| 94/94 [00:00<00:00, 304.72it/s]\n"
          ]
        },
        {
          "output_type": "stream",
          "name": "stdout",
          "text": [
            "Best Model: Test Acc 0.7206666469573975 | Test Loss 0.8219985365867615 \n",
            "\n",
            "Working with layer type: SDPA\n"
          ]
        },
        {
          "output_type": "stream",
          "name": "stderr",
          "text": [
            "Training Epoch: 0: 100%|██████████| 625/625 [00:06<00:00, 94.58it/s] \n",
            "Test Epoch: 0: 100%|██████████| 63/63 [00:00<00:00, 316.76it/s]\n"
          ]
        },
        {
          "output_type": "stream",
          "name": "stdout",
          "text": [
            " Epoch 0: Train loss: 0.6663 |  Train acc: 0.5472 |                 Val loss: 0.6082 | Val acc: 0.6445\n"
          ]
        },
        {
          "output_type": "stream",
          "name": "stderr",
          "text": [
            "Training Epoch: 1: 100%|██████████| 625/625 [00:05<00:00, 110.57it/s]\n",
            "Test Epoch: 1: 100%|██████████| 63/63 [00:00<00:00, 284.67it/s]\n"
          ]
        },
        {
          "output_type": "stream",
          "name": "stdout",
          "text": [
            " Epoch 1: Train loss: 0.5703 |  Train acc: 0.6881 |                 Val loss: 0.5618 | Val acc: 0.6998\n"
          ]
        },
        {
          "output_type": "stream",
          "name": "stderr",
          "text": [
            "Training Epoch: 2: 100%|██████████| 625/625 [00:06<00:00, 92.74it/s] \n",
            "Test Epoch: 2: 100%|██████████| 63/63 [00:00<00:00, 308.26it/s]\n"
          ]
        },
        {
          "output_type": "stream",
          "name": "stdout",
          "text": [
            " Epoch 2: Train loss: 0.507 |  Train acc: 0.7422 |                 Val loss: 0.5526 | Val acc: 0.7185\n"
          ]
        },
        {
          "output_type": "stream",
          "name": "stderr",
          "text": [
            "Training Epoch: 3: 100%|██████████| 625/625 [00:05<00:00, 109.96it/s]\n",
            "Test Epoch: 3: 100%|██████████| 63/63 [00:00<00:00, 297.47it/s]\n"
          ]
        },
        {
          "output_type": "stream",
          "name": "stdout",
          "text": [
            " Epoch 3: Train loss: 0.4578 |  Train acc: 0.7779 |                 Val loss: 0.5552 | Val acc: 0.704\n"
          ]
        },
        {
          "output_type": "stream",
          "name": "stderr",
          "text": [
            "Training Epoch: 4: 100%|██████████| 625/625 [00:06<00:00, 92.71it/s] \n",
            "Test Epoch: 4: 100%|██████████| 63/63 [00:00<00:00, 309.76it/s]\n"
          ]
        },
        {
          "output_type": "stream",
          "name": "stdout",
          "text": [
            " Epoch 4: Train loss: 0.4147 |  Train acc: 0.8095 |                 Val loss: 0.5699 | Val acc: 0.72\n"
          ]
        },
        {
          "output_type": "stream",
          "name": "stderr",
          "text": [
            "Training Epoch: 5: 100%|██████████| 625/625 [00:05<00:00, 109.49it/s]\n",
            "Test Epoch: 5: 100%|██████████| 63/63 [00:00<00:00, 288.09it/s]\n"
          ]
        },
        {
          "output_type": "stream",
          "name": "stdout",
          "text": [
            " Epoch 5: Train loss: 0.3715 |  Train acc: 0.8391 |                 Val loss: 0.5929 | Val acc: 0.7195\n"
          ]
        },
        {
          "output_type": "stream",
          "name": "stderr",
          "text": [
            "Training Epoch: 6: 100%|██████████| 625/625 [00:06<00:00, 93.15it/s] \n",
            "Test Epoch: 6: 100%|██████████| 63/63 [00:00<00:00, 305.36it/s]\n"
          ]
        },
        {
          "output_type": "stream",
          "name": "stdout",
          "text": [
            " Epoch 6: Train loss: 0.3328 |  Train acc: 0.8613 |                 Val loss: 0.6224 | Val acc: 0.7195\n"
          ]
        },
        {
          "output_type": "stream",
          "name": "stderr",
          "text": [
            "Training Epoch: 7: 100%|██████████| 625/625 [00:05<00:00, 113.58it/s]\n",
            "Test Epoch: 7: 100%|██████████| 63/63 [00:00<00:00, 286.27it/s]\n"
          ]
        },
        {
          "output_type": "stream",
          "name": "stdout",
          "text": [
            " Epoch 7: Train loss: 0.2975 |  Train acc: 0.8815 |                 Val loss: 0.6659 | Val acc: 0.7248\n"
          ]
        },
        {
          "output_type": "stream",
          "name": "stderr",
          "text": [
            "Training Epoch: 8: 100%|██████████| 625/625 [00:06<00:00, 95.51it/s] \n",
            "Test Epoch: 8: 100%|██████████| 63/63 [00:00<00:00, 312.05it/s]\n"
          ]
        },
        {
          "output_type": "stream",
          "name": "stdout",
          "text": [
            " Epoch 8: Train loss: 0.2606 |  Train acc: 0.9013 |                 Val loss: 0.7339 | Val acc: 0.706\n"
          ]
        },
        {
          "output_type": "stream",
          "name": "stderr",
          "text": [
            "Training Epoch: 9: 100%|██████████| 625/625 [00:05<00:00, 113.51it/s]\n",
            "Test Epoch: 9: 100%|██████████| 63/63 [00:00<00:00, 287.61it/s]\n"
          ]
        },
        {
          "output_type": "stream",
          "name": "stdout",
          "text": [
            " Epoch 9: Train loss: 0.2354 |  Train acc: 0.9133 |                 Val loss: 0.7881 | Val acc: 0.7163\n"
          ]
        },
        {
          "output_type": "stream",
          "name": "stderr",
          "text": [
            "Test Epoch: 7: 100%|██████████| 94/94 [00:00<00:00, 295.77it/s]\n"
          ]
        },
        {
          "output_type": "stream",
          "name": "stdout",
          "text": [
            "Best Model: Test Acc 0.73416668176651 | Test Loss 0.6504974961280823 \n",
            "\n",
            "Working with layer type: SDPA\n"
          ]
        },
        {
          "output_type": "stream",
          "name": "stderr",
          "text": [
            "Training Epoch: 0: 100%|██████████| 625/625 [00:06<00:00, 94.93it/s] \n",
            "Test Epoch: 0: 100%|██████████| 63/63 [00:00<00:00, 301.06it/s]\n"
          ]
        },
        {
          "output_type": "stream",
          "name": "stdout",
          "text": [
            " Epoch 0: Train loss: 0.6618 |  Train acc: 0.5547 |                 Val loss: 0.6136 | Val acc: 0.6428\n"
          ]
        },
        {
          "output_type": "stream",
          "name": "stderr",
          "text": [
            "Training Epoch: 1: 100%|██████████| 625/625 [00:05<00:00, 112.76it/s]\n",
            "Test Epoch: 1: 100%|██████████| 63/63 [00:00<00:00, 293.41it/s]\n"
          ]
        },
        {
          "output_type": "stream",
          "name": "stdout",
          "text": [
            " Epoch 1: Train loss: 0.5772 |  Train acc: 0.6693 |                 Val loss: 0.5662 | Val acc: 0.6913\n"
          ]
        },
        {
          "output_type": "stream",
          "name": "stderr",
          "text": [
            "Training Epoch: 2: 100%|██████████| 625/625 [00:06<00:00, 95.76it/s] \n",
            "Test Epoch: 2: 100%|██████████| 63/63 [00:00<00:00, 285.30it/s]\n"
          ]
        },
        {
          "output_type": "stream",
          "name": "stdout",
          "text": [
            " Epoch 2: Train loss: 0.5151 |  Train acc: 0.7184 |                 Val loss: 0.5453 | Val acc: 0.7195\n"
          ]
        },
        {
          "output_type": "stream",
          "name": "stderr",
          "text": [
            "Training Epoch: 3: 100%|██████████| 625/625 [00:05<00:00, 114.55it/s]\n",
            "Test Epoch: 3: 100%|██████████| 63/63 [00:00<00:00, 285.40it/s]\n"
          ]
        },
        {
          "output_type": "stream",
          "name": "stdout",
          "text": [
            " Epoch 3: Train loss: 0.466 |  Train acc: 0.751 |                 Val loss: 0.5581 | Val acc: 0.7193\n"
          ]
        },
        {
          "output_type": "stream",
          "name": "stderr",
          "text": [
            "Training Epoch: 4: 100%|██████████| 625/625 [00:06<00:00, 94.20it/s] \n",
            "Test Epoch: 4: 100%|██████████| 63/63 [00:00<00:00, 290.90it/s]\n"
          ]
        },
        {
          "output_type": "stream",
          "name": "stdout",
          "text": [
            " Epoch 4: Train loss: 0.4203 |  Train acc: 0.7788 |                 Val loss: 0.5615 | Val acc: 0.7293\n"
          ]
        },
        {
          "output_type": "stream",
          "name": "stderr",
          "text": [
            "Training Epoch: 5: 100%|██████████| 625/625 [00:05<00:00, 111.32it/s]\n",
            "Test Epoch: 5: 100%|██████████| 63/63 [00:00<00:00, 297.78it/s]\n"
          ]
        },
        {
          "output_type": "stream",
          "name": "stdout",
          "text": [
            " Epoch 5: Train loss: 0.3766 |  Train acc: 0.8021 |                 Val loss: 0.5857 | Val acc: 0.7348\n"
          ]
        },
        {
          "output_type": "stream",
          "name": "stderr",
          "text": [
            "Training Epoch: 6: 100%|██████████| 625/625 [00:06<00:00, 94.97it/s] \n",
            "Test Epoch: 6: 100%|██████████| 63/63 [00:00<00:00, 321.23it/s]\n"
          ]
        },
        {
          "output_type": "stream",
          "name": "stdout",
          "text": [
            " Epoch 6: Train loss: 0.3357 |  Train acc: 0.8629 |                 Val loss: 0.6311 | Val acc: 0.728\n"
          ]
        },
        {
          "output_type": "stream",
          "name": "stderr",
          "text": [
            "Training Epoch: 7: 100%|██████████| 625/625 [00:05<00:00, 113.75it/s]\n",
            "Test Epoch: 7: 100%|██████████| 63/63 [00:00<00:00, 283.22it/s]\n"
          ]
        },
        {
          "output_type": "stream",
          "name": "stdout",
          "text": [
            " Epoch 7: Train loss: 0.2924 |  Train acc: 0.8876 |                 Val loss: 0.6852 | Val acc: 0.7233\n"
          ]
        },
        {
          "output_type": "stream",
          "name": "stderr",
          "text": [
            "Training Epoch: 8: 100%|██████████| 625/625 [00:06<00:00, 95.62it/s] \n",
            "Test Epoch: 8: 100%|██████████| 63/63 [00:00<00:00, 303.27it/s]\n"
          ]
        },
        {
          "output_type": "stream",
          "name": "stdout",
          "text": [
            " Epoch 8: Train loss: 0.2577 |  Train acc: 0.9054 |                 Val loss: 0.7332 | Val acc: 0.7268\n"
          ]
        },
        {
          "output_type": "stream",
          "name": "stderr",
          "text": [
            "Training Epoch: 9: 100%|██████████| 625/625 [00:05<00:00, 112.59it/s]\n",
            "Test Epoch: 9: 100%|██████████| 63/63 [00:00<00:00, 294.16it/s]\n"
          ]
        },
        {
          "output_type": "stream",
          "name": "stdout",
          "text": [
            " Epoch 9: Train loss: 0.2265 |  Train acc: 0.9216 |                 Val loss: 0.8225 | Val acc: 0.7238\n"
          ]
        },
        {
          "output_type": "stream",
          "name": "stderr",
          "text": [
            "Test Epoch: 5: 100%|██████████| 94/94 [00:00<00:00, 314.13it/s]\n"
          ]
        },
        {
          "output_type": "stream",
          "name": "stdout",
          "text": [
            "Best Model: Test Acc 0.734666645526886 | Test Loss 0.5884243845939636 \n",
            "\n",
            "Working with layer type: SDPA\n"
          ]
        },
        {
          "output_type": "stream",
          "name": "stderr",
          "text": [
            "Training Epoch: 0: 100%|██████████| 625/625 [00:06<00:00, 94.46it/s] \n",
            "Test Epoch: 0: 100%|██████████| 63/63 [00:00<00:00, 317.33it/s]\n"
          ]
        },
        {
          "output_type": "stream",
          "name": "stdout",
          "text": [
            " Epoch 0: Train loss: 0.6621 |  Train acc: 0.5483 |                 Val loss: 0.6123 | Val acc: 0.648\n"
          ]
        },
        {
          "output_type": "stream",
          "name": "stderr",
          "text": [
            "Training Epoch: 1: 100%|██████████| 625/625 [00:05<00:00, 113.70it/s]\n",
            "Test Epoch: 1: 100%|██████████| 63/63 [00:00<00:00, 282.65it/s]\n"
          ]
        },
        {
          "output_type": "stream",
          "name": "stdout",
          "text": [
            " Epoch 1: Train loss: 0.5703 |  Train acc: 0.6865 |                 Val loss: 0.5619 | Val acc: 0.7043\n"
          ]
        },
        {
          "output_type": "stream",
          "name": "stderr",
          "text": [
            "Training Epoch: 2: 100%|██████████| 625/625 [00:06<00:00, 95.42it/s] \n",
            "Test Epoch: 2: 100%|██████████| 63/63 [00:00<00:00, 291.63it/s]\n"
          ]
        },
        {
          "output_type": "stream",
          "name": "stdout",
          "text": [
            " Epoch 2: Train loss: 0.508 |  Train acc: 0.738 |                 Val loss: 0.5424 | Val acc: 0.7295\n"
          ]
        },
        {
          "output_type": "stream",
          "name": "stderr",
          "text": [
            "Training Epoch: 3: 100%|██████████| 625/625 [00:05<00:00, 112.63it/s]\n",
            "Test Epoch: 3: 100%|██████████| 63/63 [00:00<00:00, 286.27it/s]\n"
          ]
        },
        {
          "output_type": "stream",
          "name": "stdout",
          "text": [
            " Epoch 3: Train loss: 0.4607 |  Train acc: 0.7743 |                 Val loss: 0.5443 | Val acc: 0.7305\n"
          ]
        },
        {
          "output_type": "stream",
          "name": "stderr",
          "text": [
            "Training Epoch: 4: 100%|██████████| 625/625 [00:06<00:00, 94.64it/s] \n",
            "Test Epoch: 4: 100%|██████████| 63/63 [00:00<00:00, 297.28it/s]\n"
          ]
        },
        {
          "output_type": "stream",
          "name": "stdout",
          "text": [
            " Epoch 4: Train loss: 0.4182 |  Train acc: 0.8041 |                 Val loss: 0.5581 | Val acc: 0.7333\n"
          ]
        },
        {
          "output_type": "stream",
          "name": "stderr",
          "text": [
            "Training Epoch: 5: 100%|██████████| 625/625 [00:05<00:00, 112.48it/s]\n",
            "Test Epoch: 5: 100%|██████████| 63/63 [00:00<00:00, 293.69it/s]\n"
          ]
        },
        {
          "output_type": "stream",
          "name": "stdout",
          "text": [
            " Epoch 5: Train loss: 0.3731 |  Train acc: 0.8352 |                 Val loss: 0.5823 | Val acc: 0.7353\n"
          ]
        },
        {
          "output_type": "stream",
          "name": "stderr",
          "text": [
            "Training Epoch: 6: 100%|██████████| 625/625 [00:06<00:00, 94.67it/s] \n",
            "Test Epoch: 6: 100%|██████████| 63/63 [00:00<00:00, 322.48it/s]\n"
          ]
        },
        {
          "output_type": "stream",
          "name": "stdout",
          "text": [
            " Epoch 6: Train loss: 0.3313 |  Train acc: 0.8625 |                 Val loss: 0.6222 | Val acc: 0.7355\n"
          ]
        },
        {
          "output_type": "stream",
          "name": "stderr",
          "text": [
            "Training Epoch: 7: 100%|██████████| 625/625 [00:05<00:00, 114.33it/s]\n",
            "Test Epoch: 7: 100%|██████████| 63/63 [00:00<00:00, 283.99it/s]\n"
          ]
        },
        {
          "output_type": "stream",
          "name": "stdout",
          "text": [
            " Epoch 7: Train loss: 0.2911 |  Train acc: 0.8841 |                 Val loss: 0.6674 | Val acc: 0.731\n"
          ]
        },
        {
          "output_type": "stream",
          "name": "stderr",
          "text": [
            "Training Epoch: 8: 100%|██████████| 625/625 [00:06<00:00, 95.19it/s]\n",
            "Test Epoch: 8: 100%|██████████| 63/63 [00:00<00:00, 310.80it/s]\n"
          ]
        },
        {
          "output_type": "stream",
          "name": "stdout",
          "text": [
            " Epoch 8: Train loss: 0.2504 |  Train acc: 0.9061 |                 Val loss: 0.7072 | Val acc: 0.7253\n"
          ]
        },
        {
          "output_type": "stream",
          "name": "stderr",
          "text": [
            "Training Epoch: 9: 100%|██████████| 625/625 [00:05<00:00, 113.54it/s]\n",
            "Test Epoch: 9: 100%|██████████| 63/63 [00:00<00:00, 282.42it/s]\n"
          ]
        },
        {
          "output_type": "stream",
          "name": "stdout",
          "text": [
            " Epoch 9: Train loss: 0.2176 |  Train acc: 0.9216 |                 Val loss: 0.7748 | Val acc: 0.7245\n"
          ]
        },
        {
          "output_type": "stream",
          "name": "stderr",
          "text": [
            "Test Epoch: 6: 100%|██████████| 94/94 [00:00<00:00, 300.71it/s]\n"
          ]
        },
        {
          "output_type": "stream",
          "name": "stdout",
          "text": [
            "Best Model: Test Acc 0.7294999957084656 | Test Loss 0.6290222406387329 \n",
            "\n",
            "Working with layer type: Optimised\n"
          ]
        },
        {
          "output_type": "stream",
          "name": "stderr",
          "text": [
            "Training Epoch: 0: 100%|██████████| 625/625 [00:06<00:00, 96.98it/s] \n",
            "Test Epoch: 0: 100%|██████████| 63/63 [00:00<00:00, 307.18it/s]\n"
          ]
        },
        {
          "output_type": "stream",
          "name": "stdout",
          "text": [
            " Epoch 0: Train loss: 0.6745 |  Train acc: 0.5314 |                 Val loss: 0.6215 | Val acc: 0.621\n"
          ]
        },
        {
          "output_type": "stream",
          "name": "stderr",
          "text": [
            "Training Epoch: 1: 100%|██████████| 625/625 [00:05<00:00, 113.79it/s]\n",
            "Test Epoch: 1: 100%|██████████| 63/63 [00:00<00:00, 291.13it/s]\n"
          ]
        },
        {
          "output_type": "stream",
          "name": "stdout",
          "text": [
            " Epoch 1: Train loss: 0.5828 |  Train acc: 0.675 |                 Val loss: 0.5648 | Val acc: 0.6855\n"
          ]
        },
        {
          "output_type": "stream",
          "name": "stderr",
          "text": [
            "Training Epoch: 2: 100%|██████████| 625/625 [00:06<00:00, 97.33it/s] \n",
            "Test Epoch: 2: 100%|██████████| 63/63 [00:00<00:00, 273.17it/s]\n"
          ]
        },
        {
          "output_type": "stream",
          "name": "stdout",
          "text": [
            " Epoch 2: Train loss: 0.5169 |  Train acc: 0.7378 |                 Val loss: 0.5495 | Val acc: 0.7158\n"
          ]
        },
        {
          "output_type": "stream",
          "name": "stderr",
          "text": [
            "Training Epoch: 3: 100%|██████████| 625/625 [00:05<00:00, 113.78it/s]\n",
            "Test Epoch: 3: 100%|██████████| 63/63 [00:00<00:00, 294.17it/s]\n"
          ]
        },
        {
          "output_type": "stream",
          "name": "stdout",
          "text": [
            " Epoch 3: Train loss: 0.4642 |  Train acc: 0.7775 |                 Val loss: 0.5452 | Val acc: 0.7155\n"
          ]
        },
        {
          "output_type": "stream",
          "name": "stderr",
          "text": [
            "Training Epoch: 4: 100%|██████████| 625/625 [00:06<00:00, 96.60it/s]\n",
            "Test Epoch: 4: 100%|██████████| 63/63 [00:00<00:00, 284.40it/s]\n"
          ]
        },
        {
          "output_type": "stream",
          "name": "stdout",
          "text": [
            " Epoch 4: Train loss: 0.4162 |  Train acc: 0.8124 |                 Val loss: 0.5582 | Val acc: 0.7265\n"
          ]
        },
        {
          "output_type": "stream",
          "name": "stderr",
          "text": [
            "Training Epoch: 5: 100%|██████████| 625/625 [00:05<00:00, 113.43it/s]\n",
            "Test Epoch: 5: 100%|██████████| 63/63 [00:00<00:00, 284.83it/s]\n"
          ]
        },
        {
          "output_type": "stream",
          "name": "stdout",
          "text": [
            " Epoch 5: Train loss: 0.3667 |  Train acc: 0.8433 |                 Val loss: 0.5976 | Val acc: 0.7293\n"
          ]
        },
        {
          "output_type": "stream",
          "name": "stderr",
          "text": [
            "Training Epoch: 6: 100%|██████████| 625/625 [00:06<00:00, 99.60it/s]\n",
            "Test Epoch: 6: 100%|██████████| 63/63 [00:00<00:00, 189.81it/s]\n"
          ]
        },
        {
          "output_type": "stream",
          "name": "stdout",
          "text": [
            " Epoch 6: Train loss: 0.3168 |  Train acc: 0.8724 |                 Val loss: 0.6358 | Val acc: 0.7198\n"
          ]
        },
        {
          "output_type": "stream",
          "name": "stderr",
          "text": [
            "Training Epoch: 7: 100%|██████████| 625/625 [00:05<00:00, 113.46it/s]\n",
            "Test Epoch: 7: 100%|██████████| 63/63 [00:00<00:00, 278.41it/s]\n"
          ]
        },
        {
          "output_type": "stream",
          "name": "stdout",
          "text": [
            " Epoch 7: Train loss: 0.2681 |  Train acc: 0.8975 |                 Val loss: 0.7151 | Val acc: 0.7243\n"
          ]
        },
        {
          "output_type": "stream",
          "name": "stderr",
          "text": [
            "Training Epoch: 8: 100%|██████████| 625/625 [00:06<00:00, 101.31it/s]\n",
            "Test Epoch: 8: 100%|██████████| 63/63 [00:00<00:00, 192.48it/s]\n"
          ]
        },
        {
          "output_type": "stream",
          "name": "stdout",
          "text": [
            " Epoch 8: Train loss: 0.2266 |  Train acc: 0.9185 |                 Val loss: 0.7957 | Val acc: 0.7213\n"
          ]
        },
        {
          "output_type": "stream",
          "name": "stderr",
          "text": [
            "Training Epoch: 9: 100%|██████████| 625/625 [00:05<00:00, 107.68it/s]\n",
            "Test Epoch: 9: 100%|██████████| 63/63 [00:00<00:00, 282.25it/s]\n"
          ]
        },
        {
          "output_type": "stream",
          "name": "stdout",
          "text": [
            " Epoch 9: Train loss: 0.1922 |  Train acc: 0.9332 |                 Val loss: 0.8651 | Val acc: 0.7155\n"
          ]
        },
        {
          "output_type": "stream",
          "name": "stderr",
          "text": [
            "Test Epoch: 5: 100%|██████████| 94/94 [00:00<00:00, 294.03it/s]\n"
          ]
        },
        {
          "output_type": "stream",
          "name": "stdout",
          "text": [
            "Best Model: Test Acc 0.7224999666213989 | Test Loss 0.5998744964599609 \n",
            "\n",
            "Working with layer type: Optimised\n"
          ]
        },
        {
          "output_type": "stream",
          "name": "stderr",
          "text": [
            "Training Epoch: 0: 100%|██████████| 625/625 [00:06<00:00, 98.30it/s]\n",
            "Test Epoch: 0: 100%|██████████| 63/63 [00:00<00:00, 199.16it/s]\n"
          ]
        },
        {
          "output_type": "stream",
          "name": "stdout",
          "text": [
            " Epoch 0: Train loss: 0.6686 |  Train acc: 0.5398 |                 Val loss: 0.6192 | Val acc: 0.612\n"
          ]
        },
        {
          "output_type": "stream",
          "name": "stderr",
          "text": [
            "Training Epoch: 1: 100%|██████████| 625/625 [00:05<00:00, 109.67it/s]\n",
            "Test Epoch: 1: 100%|██████████| 63/63 [00:00<00:00, 276.70it/s]\n"
          ]
        },
        {
          "output_type": "stream",
          "name": "stdout",
          "text": [
            " Epoch 1: Train loss: 0.5759 |  Train acc: 0.6851 |                 Val loss: 0.5599 | Val acc: 0.6923\n"
          ]
        },
        {
          "output_type": "stream",
          "name": "stderr",
          "text": [
            "Training Epoch: 2: 100%|██████████| 625/625 [00:06<00:00, 103.24it/s]\n",
            "Test Epoch: 2: 100%|██████████| 63/63 [00:00<00:00, 193.97it/s]\n"
          ]
        },
        {
          "output_type": "stream",
          "name": "stdout",
          "text": [
            " Epoch 2: Train loss: 0.5116 |  Train acc: 0.7436 |                 Val loss: 0.5397 | Val acc: 0.713\n"
          ]
        },
        {
          "output_type": "stream",
          "name": "stderr",
          "text": [
            "Training Epoch: 3: 100%|██████████| 625/625 [00:05<00:00, 104.84it/s]\n",
            "Test Epoch: 3: 100%|██████████| 63/63 [00:00<00:00, 294.86it/s]\n"
          ]
        },
        {
          "output_type": "stream",
          "name": "stdout",
          "text": [
            " Epoch 3: Train loss: 0.4615 |  Train acc: 0.78 |                 Val loss: 0.5459 | Val acc: 0.717\n"
          ]
        },
        {
          "output_type": "stream",
          "name": "stderr",
          "text": [
            "Training Epoch: 4: 100%|██████████| 625/625 [00:06<00:00, 101.51it/s]\n",
            "Test Epoch: 4: 100%|██████████| 63/63 [00:00<00:00, 193.61it/s]\n"
          ]
        },
        {
          "output_type": "stream",
          "name": "stdout",
          "text": [
            " Epoch 4: Train loss: 0.4135 |  Train acc: 0.8161 |                 Val loss: 0.5654 | Val acc: 0.7213\n"
          ]
        },
        {
          "output_type": "stream",
          "name": "stderr",
          "text": [
            "Training Epoch: 5: 100%|██████████| 625/625 [00:05<00:00, 105.89it/s]\n",
            "Test Epoch: 5: 100%|██████████| 63/63 [00:00<00:00, 278.88it/s]\n"
          ]
        },
        {
          "output_type": "stream",
          "name": "stdout",
          "text": [
            " Epoch 5: Train loss: 0.3625 |  Train acc: 0.8482 |                 Val loss: 0.6013 | Val acc: 0.7285\n"
          ]
        },
        {
          "output_type": "stream",
          "name": "stderr",
          "text": [
            "Training Epoch: 6: 100%|██████████| 625/625 [00:06<00:00, 101.17it/s]\n",
            "Test Epoch: 6: 100%|██████████| 63/63 [00:00<00:00, 187.98it/s]\n"
          ]
        },
        {
          "output_type": "stream",
          "name": "stdout",
          "text": [
            " Epoch 6: Train loss: 0.3131 |  Train acc: 0.8751 |                 Val loss: 0.6391 | Val acc: 0.7355\n"
          ]
        },
        {
          "output_type": "stream",
          "name": "stderr",
          "text": [
            "Training Epoch: 7: 100%|██████████| 625/625 [00:05<00:00, 106.32it/s]\n",
            "Test Epoch: 7: 100%|██████████| 63/63 [00:00<00:00, 284.96it/s]\n"
          ]
        },
        {
          "output_type": "stream",
          "name": "stdout",
          "text": [
            " Epoch 7: Train loss: 0.2636 |  Train acc: 0.9017 |                 Val loss: 0.7215 | Val acc: 0.718\n"
          ]
        },
        {
          "output_type": "stream",
          "name": "stderr",
          "text": [
            "Training Epoch: 8: 100%|██████████| 625/625 [00:06<00:00, 99.88it/s]\n",
            "Test Epoch: 8: 100%|██████████| 63/63 [00:00<00:00, 195.94it/s]\n"
          ]
        },
        {
          "output_type": "stream",
          "name": "stdout",
          "text": [
            " Epoch 8: Train loss: 0.2199 |  Train acc: 0.922 |                 Val loss: 0.7784 | Val acc: 0.7185\n"
          ]
        },
        {
          "output_type": "stream",
          "name": "stderr",
          "text": [
            "Training Epoch: 9: 100%|██████████| 625/625 [00:06<00:00, 104.16it/s]\n",
            "Test Epoch: 9: 100%|██████████| 63/63 [00:00<00:00, 275.95it/s]\n"
          ]
        },
        {
          "output_type": "stream",
          "name": "stdout",
          "text": [
            " Epoch 9: Train loss: 0.1805 |  Train acc: 0.9376 |                 Val loss: 0.8284 | Val acc: 0.72\n"
          ]
        },
        {
          "output_type": "stream",
          "name": "stderr",
          "text": [
            "Test Epoch: 6: 100%|██████████| 94/94 [00:00<00:00, 307.47it/s]\n"
          ]
        },
        {
          "output_type": "stream",
          "name": "stdout",
          "text": [
            "Best Model: Test Acc 0.7318333387374878 | Test Loss 0.6314769983291626 \n",
            "\n",
            "Working with layer type: Optimised\n"
          ]
        },
        {
          "output_type": "stream",
          "name": "stderr",
          "text": [
            "Training Epoch: 0: 100%|██████████| 625/625 [00:06<00:00, 99.05it/s]\n",
            "Test Epoch: 0: 100%|██████████| 63/63 [00:00<00:00, 198.00it/s]\n"
          ]
        },
        {
          "output_type": "stream",
          "name": "stdout",
          "text": [
            " Epoch 0: Train loss: 0.6831 |  Train acc: 0.5168 |                 Val loss: 0.6344 | Val acc: 0.618\n"
          ]
        },
        {
          "output_type": "stream",
          "name": "stderr",
          "text": [
            "Training Epoch: 1: 100%|██████████| 625/625 [00:05<00:00, 110.59it/s]\n",
            "Test Epoch: 1: 100%|██████████| 63/63 [00:00<00:00, 281.60it/s]\n"
          ]
        },
        {
          "output_type": "stream",
          "name": "stdout",
          "text": [
            " Epoch 1: Train loss: 0.5937 |  Train acc: 0.6662 |                 Val loss: 0.575 | Val acc: 0.6913\n"
          ]
        },
        {
          "output_type": "stream",
          "name": "stderr",
          "text": [
            "Training Epoch: 2: 100%|██████████| 625/625 [00:05<00:00, 105.61it/s]\n",
            "Test Epoch: 2: 100%|██████████| 63/63 [00:00<00:00, 208.28it/s]\n"
          ]
        },
        {
          "output_type": "stream",
          "name": "stdout",
          "text": [
            " Epoch 2: Train loss: 0.5248 |  Train acc: 0.7299 |                 Val loss: 0.5536 | Val acc: 0.683\n"
          ]
        },
        {
          "output_type": "stream",
          "name": "stderr",
          "text": [
            "Training Epoch: 3: 100%|██████████| 625/625 [00:05<00:00, 106.19it/s]\n",
            "Test Epoch: 3: 100%|██████████| 63/63 [00:00<00:00, 273.64it/s]\n"
          ]
        },
        {
          "output_type": "stream",
          "name": "stdout",
          "text": [
            " Epoch 3: Train loss: 0.4742 |  Train acc: 0.7672 |                 Val loss: 0.5466 | Val acc: 0.727\n"
          ]
        },
        {
          "output_type": "stream",
          "name": "stderr",
          "text": [
            "Training Epoch: 4: 100%|██████████| 625/625 [00:05<00:00, 109.63it/s]\n",
            "Test Epoch: 4: 100%|██████████| 63/63 [00:00<00:00, 214.52it/s]\n"
          ]
        },
        {
          "output_type": "stream",
          "name": "stdout",
          "text": [
            " Epoch 4: Train loss: 0.4286 |  Train acc: 0.8032 |                 Val loss: 0.5462 | Val acc: 0.7213\n"
          ]
        },
        {
          "output_type": "stream",
          "name": "stderr",
          "text": [
            "Training Epoch: 5: 100%|██████████| 625/625 [00:06<00:00, 103.67it/s]\n",
            "Test Epoch: 5: 100%|██████████| 63/63 [00:00<00:00, 279.01it/s]\n"
          ]
        },
        {
          "output_type": "stream",
          "name": "stdout",
          "text": [
            " Epoch 5: Train loss: 0.3802 |  Train acc: 0.835 |                 Val loss: 0.587 | Val acc: 0.721\n"
          ]
        },
        {
          "output_type": "stream",
          "name": "stderr",
          "text": [
            "Training Epoch: 6: 100%|██████████| 625/625 [00:05<00:00, 110.92it/s]\n",
            "Test Epoch: 6: 100%|██████████| 63/63 [00:00<00:00, 225.57it/s]\n"
          ]
        },
        {
          "output_type": "stream",
          "name": "stdout",
          "text": [
            " Epoch 6: Train loss: 0.3282 |  Train acc: 0.8671 |                 Val loss: 0.624 | Val acc: 0.7183\n"
          ]
        },
        {
          "output_type": "stream",
          "name": "stderr",
          "text": [
            "Training Epoch: 7: 100%|██████████| 625/625 [00:06<00:00, 101.19it/s]\n",
            "Test Epoch: 7: 100%|██████████| 63/63 [00:00<00:00, 262.33it/s]\n"
          ]
        },
        {
          "output_type": "stream",
          "name": "stdout",
          "text": [
            " Epoch 7: Train loss: 0.2823 |  Train acc: 0.8928 |                 Val loss: 0.6866 | Val acc: 0.721\n"
          ]
        },
        {
          "output_type": "stream",
          "name": "stderr",
          "text": [
            "Training Epoch: 8: 100%|██████████| 625/625 [00:05<00:00, 113.17it/s]\n",
            "Test Epoch: 8: 100%|██████████| 63/63 [00:00<00:00, 278.89it/s]\n"
          ]
        },
        {
          "output_type": "stream",
          "name": "stdout",
          "text": [
            " Epoch 8: Train loss: 0.2404 |  Train acc: 0.9139 |                 Val loss: 0.7585 | Val acc: 0.719\n"
          ]
        },
        {
          "output_type": "stream",
          "name": "stderr",
          "text": [
            "Training Epoch: 9: 100%|██████████| 625/625 [00:06<00:00, 98.33it/s] \n",
            "Test Epoch: 9: 100%|██████████| 63/63 [00:00<00:00, 290.73it/s]\n"
          ]
        },
        {
          "output_type": "stream",
          "name": "stdout",
          "text": [
            " Epoch 9: Train loss: 0.204 |  Train acc: 0.9311 |                 Val loss: 0.8437 | Val acc: 0.7178\n"
          ]
        },
        {
          "output_type": "stream",
          "name": "stderr",
          "text": [
            "Test Epoch: 3: 100%|██████████| 94/94 [00:00<00:00, 308.77it/s]\n"
          ]
        },
        {
          "output_type": "stream",
          "name": "stdout",
          "text": [
            "Best Model: Test Acc 0.715666651725769 | Test Loss 0.5557748079299927 \n",
            "\n",
            "Working with layer type: Optimised\n"
          ]
        },
        {
          "output_type": "stream",
          "name": "stderr",
          "text": [
            "Training Epoch: 0: 100%|██████████| 625/625 [00:05<00:00, 112.17it/s]\n",
            "Test Epoch: 0: 100%|██████████| 63/63 [00:00<00:00, 320.38it/s]\n"
          ]
        },
        {
          "output_type": "stream",
          "name": "stdout",
          "text": [
            " Epoch 0: Train loss: 0.6693 |  Train acc: 0.5428 |                 Val loss: 0.6144 | Val acc: 0.6388\n"
          ]
        },
        {
          "output_type": "stream",
          "name": "stderr",
          "text": [
            "Training Epoch: 1: 100%|██████████| 625/625 [00:06<00:00, 97.87it/s] \n",
            "Test Epoch: 1: 100%|██████████| 63/63 [00:00<00:00, 291.65it/s]\n"
          ]
        },
        {
          "output_type": "stream",
          "name": "stdout",
          "text": [
            " Epoch 1: Train loss: 0.5774 |  Train acc: 0.6833 |                 Val loss: 0.56 | Val acc: 0.699\n"
          ]
        },
        {
          "output_type": "stream",
          "name": "stderr",
          "text": [
            "Training Epoch: 2: 100%|██████████| 625/625 [00:05<00:00, 111.46it/s]\n",
            "Test Epoch: 2: 100%|██████████| 63/63 [00:00<00:00, 310.97it/s]\n"
          ]
        },
        {
          "output_type": "stream",
          "name": "stdout",
          "text": [
            " Epoch 2: Train loss: 0.512 |  Train acc: 0.7416 |                 Val loss: 0.5411 | Val acc: 0.714\n"
          ]
        },
        {
          "output_type": "stream",
          "name": "stderr",
          "text": [
            "Training Epoch: 3: 100%|██████████| 625/625 [00:06<00:00, 98.67it/s] \n",
            "Test Epoch: 3: 100%|██████████| 63/63 [00:00<00:00, 279.49it/s]\n"
          ]
        },
        {
          "output_type": "stream",
          "name": "stdout",
          "text": [
            " Epoch 3: Train loss: 0.4628 |  Train acc: 0.7792 |                 Val loss: 0.5417 | Val acc: 0.7153\n"
          ]
        },
        {
          "output_type": "stream",
          "name": "stderr",
          "text": [
            "Training Epoch: 4: 100%|██████████| 625/625 [00:05<00:00, 113.12it/s]\n",
            "Test Epoch: 4: 100%|██████████| 63/63 [00:00<00:00, 312.62it/s]\n"
          ]
        },
        {
          "output_type": "stream",
          "name": "stdout",
          "text": [
            " Epoch 4: Train loss: 0.4151 |  Train acc: 0.8101 |                 Val loss: 0.5695 | Val acc: 0.7263\n"
          ]
        },
        {
          "output_type": "stream",
          "name": "stderr",
          "text": [
            "Training Epoch: 5: 100%|██████████| 625/625 [00:06<00:00, 99.16it/s] \n",
            "Test Epoch: 5: 100%|██████████| 63/63 [00:00<00:00, 281.94it/s]\n"
          ]
        },
        {
          "output_type": "stream",
          "name": "stdout",
          "text": [
            " Epoch 5: Train loss: 0.3641 |  Train acc: 0.843 |                 Val loss: 0.6151 | Val acc: 0.7185\n"
          ]
        },
        {
          "output_type": "stream",
          "name": "stderr",
          "text": [
            "Training Epoch: 6: 100%|██████████| 625/625 [00:05<00:00, 112.31it/s]\n",
            "Test Epoch: 6: 100%|██████████| 63/63 [00:00<00:00, 300.90it/s]\n"
          ]
        },
        {
          "output_type": "stream",
          "name": "stdout",
          "text": [
            " Epoch 6: Train loss: 0.3152 |  Train acc: 0.8733 |                 Val loss: 0.6296 | Val acc: 0.725\n"
          ]
        },
        {
          "output_type": "stream",
          "name": "stderr",
          "text": [
            "Training Epoch: 7: 100%|██████████| 625/625 [00:06<00:00, 98.41it/s] \n",
            "Test Epoch: 7: 100%|██████████| 63/63 [00:00<00:00, 279.36it/s]\n"
          ]
        },
        {
          "output_type": "stream",
          "name": "stdout",
          "text": [
            " Epoch 7: Train loss: 0.2663 |  Train acc: 0.8966 |                 Val loss: 0.707 | Val acc: 0.725\n"
          ]
        },
        {
          "output_type": "stream",
          "name": "stderr",
          "text": [
            "Training Epoch: 8: 100%|██████████| 625/625 [00:05<00:00, 113.63it/s]\n",
            "Test Epoch: 8: 100%|██████████| 63/63 [00:00<00:00, 313.38it/s]\n"
          ]
        },
        {
          "output_type": "stream",
          "name": "stdout",
          "text": [
            " Epoch 8: Train loss: 0.2223 |  Train acc: 0.9196 |                 Val loss: 0.7649 | Val acc: 0.7243\n"
          ]
        },
        {
          "output_type": "stream",
          "name": "stderr",
          "text": [
            "Training Epoch: 9: 100%|██████████| 625/625 [00:06<00:00, 97.58it/s] \n",
            "Test Epoch: 9: 100%|██████████| 63/63 [00:00<00:00, 289.42it/s]\n"
          ]
        },
        {
          "output_type": "stream",
          "name": "stdout",
          "text": [
            " Epoch 9: Train loss: 0.1865 |  Train acc: 0.9339 |                 Val loss: 0.829 | Val acc: 0.72\n"
          ]
        },
        {
          "output_type": "stream",
          "name": "stderr",
          "text": [
            "Test Epoch: 4: 100%|██████████| 94/94 [00:00<00:00, 311.19it/s]\n"
          ]
        },
        {
          "output_type": "stream",
          "name": "stdout",
          "text": [
            "Best Model: Test Acc 0.7281666398048401 | Test Loss 0.5689165592193604 \n",
            "\n",
            "Working with layer type: Optimised\n"
          ]
        },
        {
          "output_type": "stream",
          "name": "stderr",
          "text": [
            "Training Epoch: 0: 100%|██████████| 625/625 [00:05<00:00, 112.30it/s]\n",
            "Test Epoch: 0: 100%|██████████| 63/63 [00:00<00:00, 322.05it/s]\n"
          ]
        },
        {
          "output_type": "stream",
          "name": "stdout",
          "text": [
            " Epoch 0: Train loss: 0.6655 |  Train acc: 0.5444 |                 Val loss: 0.613 | Val acc: 0.6505\n"
          ]
        },
        {
          "output_type": "stream",
          "name": "stderr",
          "text": [
            "Training Epoch: 1: 100%|██████████| 625/625 [00:06<00:00, 98.68it/s] \n",
            "Test Epoch: 1: 100%|██████████| 63/63 [00:00<00:00, 283.29it/s]\n"
          ]
        },
        {
          "output_type": "stream",
          "name": "stdout",
          "text": [
            " Epoch 1: Train loss: 0.5784 |  Train acc: 0.6777 |                 Val loss: 0.562 | Val acc: 0.6955\n"
          ]
        },
        {
          "output_type": "stream",
          "name": "stderr",
          "text": [
            "Training Epoch: 2: 100%|██████████| 625/625 [00:05<00:00, 112.81it/s]\n",
            "Test Epoch: 2: 100%|██████████| 63/63 [00:00<00:00, 287.56it/s]\n"
          ]
        },
        {
          "output_type": "stream",
          "name": "stdout",
          "text": [
            " Epoch 2: Train loss: 0.5144 |  Train acc: 0.7379 |                 Val loss: 0.5454 | Val acc: 0.7283\n"
          ]
        },
        {
          "output_type": "stream",
          "name": "stderr",
          "text": [
            "Training Epoch: 3: 100%|██████████| 625/625 [00:06<00:00, 99.28it/s] \n",
            "Test Epoch: 3: 100%|██████████| 63/63 [00:00<00:00, 289.61it/s]\n"
          ]
        },
        {
          "output_type": "stream",
          "name": "stdout",
          "text": [
            " Epoch 3: Train loss: 0.465 |  Train acc: 0.7746 |                 Val loss: 0.5479 | Val acc: 0.7158\n"
          ]
        },
        {
          "output_type": "stream",
          "name": "stderr",
          "text": [
            "Training Epoch: 4: 100%|██████████| 625/625 [00:05<00:00, 112.18it/s]\n",
            "Test Epoch: 4: 100%|██████████| 63/63 [00:00<00:00, 306.39it/s]\n"
          ]
        },
        {
          "output_type": "stream",
          "name": "stdout",
          "text": [
            " Epoch 4: Train loss: 0.4156 |  Train acc: 0.8076 |                 Val loss: 0.5523 | Val acc: 0.731\n"
          ]
        },
        {
          "output_type": "stream",
          "name": "stderr",
          "text": [
            "Training Epoch: 5: 100%|██████████| 625/625 [00:06<00:00, 97.49it/s]\n",
            "Test Epoch: 5: 100%|██████████| 63/63 [00:00<00:00, 282.09it/s]\n"
          ]
        },
        {
          "output_type": "stream",
          "name": "stdout",
          "text": [
            " Epoch 5: Train loss: 0.3693 |  Train acc: 0.8372 |                 Val loss: 0.5894 | Val acc: 0.7303\n"
          ]
        },
        {
          "output_type": "stream",
          "name": "stderr",
          "text": [
            "Training Epoch: 6: 100%|██████████| 625/625 [00:05<00:00, 112.01it/s]\n",
            "Test Epoch: 6: 100%|██████████| 63/63 [00:00<00:00, 308.53it/s]\n"
          ]
        },
        {
          "output_type": "stream",
          "name": "stdout",
          "text": [
            " Epoch 6: Train loss: 0.3194 |  Train acc: 0.8681 |                 Val loss: 0.6252 | Val acc: 0.7318\n"
          ]
        },
        {
          "output_type": "stream",
          "name": "stderr",
          "text": [
            "Training Epoch: 7: 100%|██████████| 625/625 [00:06<00:00, 100.45it/s]\n",
            "Test Epoch: 7: 100%|██████████| 63/63 [00:00<00:00, 248.93it/s]\n"
          ]
        },
        {
          "output_type": "stream",
          "name": "stdout",
          "text": [
            " Epoch 7: Train loss: 0.2755 |  Train acc: 0.8919 |                 Val loss: 0.6998 | Val acc: 0.7203\n"
          ]
        },
        {
          "output_type": "stream",
          "name": "stderr",
          "text": [
            "Training Epoch: 8: 100%|██████████| 625/625 [00:05<00:00, 112.59it/s]\n",
            "Test Epoch: 8: 100%|██████████| 63/63 [00:00<00:00, 300.08it/s]\n"
          ]
        },
        {
          "output_type": "stream",
          "name": "stdout",
          "text": [
            " Epoch 8: Train loss: 0.2343 |  Train acc: 0.912 |                 Val loss: 0.7619 | Val acc: 0.727\n"
          ]
        },
        {
          "output_type": "stream",
          "name": "stderr",
          "text": [
            "Training Epoch: 9: 100%|██████████| 625/625 [00:06<00:00, 103.70it/s]\n",
            "Test Epoch: 9: 100%|██████████| 63/63 [00:00<00:00, 188.86it/s]\n"
          ]
        },
        {
          "output_type": "stream",
          "name": "stdout",
          "text": [
            " Epoch 9: Train loss: 0.201 |  Train acc: 0.9284 |                 Val loss: 0.8083 | Val acc: 0.7205\n"
          ]
        },
        {
          "output_type": "stream",
          "name": "stderr",
          "text": [
            "Test Epoch: 6: 100%|██████████| 94/94 [00:00<00:00, 225.93it/s]\n"
          ]
        },
        {
          "output_type": "stream",
          "name": "stdout",
          "text": [
            "Best Model: Test Acc 0.7288333177566528 | Test Loss 0.6218332648277283 \n",
            "\n",
            "Working with layer type: Efficient\n"
          ]
        },
        {
          "output_type": "stream",
          "name": "stderr",
          "text": [
            "Training Epoch: 0: 100%|██████████| 625/625 [00:05<00:00, 119.46it/s]\n",
            "Test Epoch: 0: 100%|██████████| 63/63 [00:00<00:00, 319.61it/s]\n"
          ]
        },
        {
          "output_type": "stream",
          "name": "stdout",
          "text": [
            " Epoch 0: Train loss: 0.6662 |  Train acc: 0.5481 |                 Val loss: 0.6211 | Val acc: 0.615\n"
          ]
        },
        {
          "output_type": "stream",
          "name": "stderr",
          "text": [
            "Training Epoch: 1: 100%|██████████| 625/625 [00:05<00:00, 109.75it/s]\n",
            "Test Epoch: 1: 100%|██████████| 63/63 [00:00<00:00, 198.27it/s]\n"
          ]
        },
        {
          "output_type": "stream",
          "name": "stdout",
          "text": [
            " Epoch 1: Train loss: 0.5836 |  Train acc: 0.6741 |                 Val loss: 0.5677 | Val acc: 0.6923\n"
          ]
        },
        {
          "output_type": "stream",
          "name": "stderr",
          "text": [
            "Training Epoch: 2: 100%|██████████| 625/625 [00:05<00:00, 111.17it/s]\n",
            "Test Epoch: 2: 100%|██████████| 63/63 [00:00<00:00, 286.29it/s]\n"
          ]
        },
        {
          "output_type": "stream",
          "name": "stdout",
          "text": [
            " Epoch 2: Train loss: 0.5214 |  Train acc: 0.7333 |                 Val loss: 0.5477 | Val acc: 0.7135\n"
          ]
        },
        {
          "output_type": "stream",
          "name": "stderr",
          "text": [
            "Training Epoch: 3: 100%|██████████| 625/625 [00:05<00:00, 118.68it/s]\n",
            "Test Epoch: 3: 100%|██████████| 63/63 [00:00<00:00, 210.40it/s]\n"
          ]
        },
        {
          "output_type": "stream",
          "name": "stdout",
          "text": [
            " Epoch 3: Train loss: 0.4725 |  Train acc: 0.7711 |                 Val loss: 0.5509 | Val acc: 0.7255\n"
          ]
        },
        {
          "output_type": "stream",
          "name": "stderr",
          "text": [
            "Training Epoch: 4: 100%|██████████| 625/625 [00:05<00:00, 104.83it/s]\n",
            "Test Epoch: 4: 100%|██████████| 63/63 [00:00<00:00, 310.31it/s]\n"
          ]
        },
        {
          "output_type": "stream",
          "name": "stdout",
          "text": [
            " Epoch 4: Train loss: 0.429 |  Train acc: 0.8016 |                 Val loss: 0.5574 | Val acc: 0.7235\n"
          ]
        },
        {
          "output_type": "stream",
          "name": "stderr",
          "text": [
            "Training Epoch: 5: 100%|██████████| 625/625 [00:05<00:00, 119.53it/s]\n",
            "Test Epoch: 5: 100%|██████████| 63/63 [00:00<00:00, 266.40it/s]\n"
          ]
        },
        {
          "output_type": "stream",
          "name": "stdout",
          "text": [
            " Epoch 5: Train loss: 0.3855 |  Train acc: 0.8292 |                 Val loss: 0.5829 | Val acc: 0.728\n"
          ]
        },
        {
          "output_type": "stream",
          "name": "stderr",
          "text": [
            "Training Epoch: 6: 100%|██████████| 625/625 [00:06<00:00, 99.95it/s] \n",
            "Test Epoch: 6: 100%|██████████| 63/63 [00:00<00:00, 319.59it/s]\n"
          ]
        },
        {
          "output_type": "stream",
          "name": "stdout",
          "text": [
            " Epoch 6: Train loss: 0.3409 |  Train acc: 0.8566 |                 Val loss: 0.6429 | Val acc: 0.7213\n"
          ]
        },
        {
          "output_type": "stream",
          "name": "stderr",
          "text": [
            "Training Epoch: 7: 100%|██████████| 625/625 [00:05<00:00, 118.68it/s]\n",
            "Test Epoch: 7: 100%|██████████| 63/63 [00:00<00:00, 279.62it/s]\n"
          ]
        },
        {
          "output_type": "stream",
          "name": "stdout",
          "text": [
            " Epoch 7: Train loss: 0.2943 |  Train acc: 0.885 |                 Val loss: 0.683 | Val acc: 0.7178\n"
          ]
        },
        {
          "output_type": "stream",
          "name": "stderr",
          "text": [
            "Training Epoch: 8: 100%|██████████| 625/625 [00:06<00:00, 100.49it/s]\n",
            "Test Epoch: 8: 100%|██████████| 63/63 [00:00<00:00, 304.65it/s]\n"
          ]
        },
        {
          "output_type": "stream",
          "name": "stdout",
          "text": [
            " Epoch 8: Train loss: 0.2502 |  Train acc: 0.9084 |                 Val loss: 0.7288 | Val acc: 0.7175\n"
          ]
        },
        {
          "output_type": "stream",
          "name": "stderr",
          "text": [
            "Training Epoch: 9: 100%|██████████| 625/625 [00:05<00:00, 118.45it/s]\n",
            "Test Epoch: 9: 100%|██████████| 63/63 [00:00<00:00, 324.68it/s]\n"
          ]
        },
        {
          "output_type": "stream",
          "name": "stdout",
          "text": [
            " Epoch 9: Train loss: 0.2093 |  Train acc: 0.9265 |                 Val loss: 0.8099 | Val acc: 0.7115\n"
          ]
        },
        {
          "output_type": "stream",
          "name": "stderr",
          "text": [
            "Test Epoch: 5: 100%|██████████| 94/94 [00:00<00:00, 319.67it/s]\n"
          ]
        },
        {
          "output_type": "stream",
          "name": "stdout",
          "text": [
            "Best Model: Test Acc 0.7238333225250244 | Test Loss 0.5824313759803772 \n",
            "\n",
            "Working with layer type: Efficient\n"
          ]
        },
        {
          "output_type": "stream",
          "name": "stderr",
          "text": [
            "Training Epoch: 0: 100%|██████████| 625/625 [00:06<00:00, 101.04it/s]\n",
            "Test Epoch: 0: 100%|██████████| 63/63 [00:00<00:00, 292.98it/s]\n"
          ]
        },
        {
          "output_type": "stream",
          "name": "stdout",
          "text": [
            " Epoch 0: Train loss: 0.6638 |  Train acc: 0.5487 |                 Val loss: 0.6148 | Val acc: 0.6145\n"
          ]
        },
        {
          "output_type": "stream",
          "name": "stderr",
          "text": [
            "Training Epoch: 1: 100%|██████████| 625/625 [00:05<00:00, 118.80it/s]\n",
            "Test Epoch: 1: 100%|██████████| 63/63 [00:00<00:00, 295.06it/s]\n"
          ]
        },
        {
          "output_type": "stream",
          "name": "stdout",
          "text": [
            " Epoch 1: Train loss: 0.5724 |  Train acc: 0.6786 |                 Val loss: 0.5604 | Val acc: 0.6975\n"
          ]
        },
        {
          "output_type": "stream",
          "name": "stderr",
          "text": [
            "Training Epoch: 2: 100%|██████████| 625/625 [00:06<00:00, 101.34it/s]\n",
            "Test Epoch: 2: 100%|██████████| 63/63 [00:00<00:00, 202.70it/s]\n"
          ]
        },
        {
          "output_type": "stream",
          "name": "stdout",
          "text": [
            " Epoch 2: Train loss: 0.5097 |  Train acc: 0.7293 |                 Val loss: 0.5426 | Val acc: 0.7153\n"
          ]
        },
        {
          "output_type": "stream",
          "name": "stderr",
          "text": [
            "Training Epoch: 3: 100%|██████████| 625/625 [00:05<00:00, 118.47it/s]\n",
            "Test Epoch: 3: 100%|██████████| 63/63 [00:00<00:00, 306.99it/s]\n"
          ]
        },
        {
          "output_type": "stream",
          "name": "stdout",
          "text": [
            " Epoch 3: Train loss: 0.4636 |  Train acc: 0.7655 |                 Val loss: 0.5427 | Val acc: 0.7328\n"
          ]
        },
        {
          "output_type": "stream",
          "name": "stderr",
          "text": [
            "Training Epoch: 4: 100%|██████████| 625/625 [00:05<00:00, 109.67it/s]\n",
            "Test Epoch: 4: 100%|██████████| 63/63 [00:00<00:00, 200.18it/s]\n"
          ]
        },
        {
          "output_type": "stream",
          "name": "stdout",
          "text": [
            " Epoch 4: Train loss: 0.4228 |  Train acc: 0.797 |                 Val loss: 0.548 | Val acc: 0.7293\n"
          ]
        },
        {
          "output_type": "stream",
          "name": "stderr",
          "text": [
            "Training Epoch: 5: 100%|██████████| 625/625 [00:05<00:00, 111.66it/s]\n",
            "Test Epoch: 5: 100%|██████████| 63/63 [00:00<00:00, 308.07it/s]\n"
          ]
        },
        {
          "output_type": "stream",
          "name": "stdout",
          "text": [
            " Epoch 5: Train loss: 0.3811 |  Train acc: 0.8272 |                 Val loss: 0.5673 | Val acc: 0.7303\n"
          ]
        },
        {
          "output_type": "stream",
          "name": "stderr",
          "text": [
            "Training Epoch: 6: 100%|██████████| 625/625 [00:05<00:00, 113.75it/s]\n",
            "Test Epoch: 6: 100%|██████████| 63/63 [00:00<00:00, 224.42it/s]\n"
          ]
        },
        {
          "output_type": "stream",
          "name": "stdout",
          "text": [
            " Epoch 6: Train loss: 0.3387 |  Train acc: 0.8558 |                 Val loss: 0.6028 | Val acc: 0.7258\n"
          ]
        },
        {
          "output_type": "stream",
          "name": "stderr",
          "text": [
            "Training Epoch: 7: 100%|██████████| 625/625 [00:05<00:00, 104.30it/s]\n",
            "Test Epoch: 7: 100%|██████████| 63/63 [00:00<00:00, 290.82it/s]\n"
          ]
        },
        {
          "output_type": "stream",
          "name": "stdout",
          "text": [
            " Epoch 7: Train loss: 0.293 |  Train acc: 0.882 |                 Val loss: 0.6707 | Val acc: 0.7273\n"
          ]
        },
        {
          "output_type": "stream",
          "name": "stderr",
          "text": [
            "Training Epoch: 8: 100%|██████████| 625/625 [00:05<00:00, 116.74it/s]\n",
            "Test Epoch: 8: 100%|██████████| 63/63 [00:00<00:00, 317.75it/s]\n"
          ]
        },
        {
          "output_type": "stream",
          "name": "stdout",
          "text": [
            " Epoch 8: Train loss: 0.2502 |  Train acc: 0.9031 |                 Val loss: 0.7007 | Val acc: 0.727\n"
          ]
        },
        {
          "output_type": "stream",
          "name": "stderr",
          "text": [
            "Training Epoch: 9: 100%|██████████| 625/625 [00:06<00:00, 100.24it/s]\n",
            "Test Epoch: 9: 100%|██████████| 63/63 [00:00<00:00, 275.19it/s]\n"
          ]
        },
        {
          "output_type": "stream",
          "name": "stdout",
          "text": [
            " Epoch 9: Train loss: 0.2079 |  Train acc: 0.925 |                 Val loss: 0.7583 | Val acc: 0.7215\n"
          ]
        },
        {
          "output_type": "stream",
          "name": "stderr",
          "text": [
            "Test Epoch: 3: 100%|██████████| 94/94 [00:00<00:00, 322.12it/s]\n"
          ]
        },
        {
          "output_type": "stream",
          "name": "stdout",
          "text": [
            "Best Model: Test Acc 0.7210000157356262 | Test Loss 0.5390888452529907 \n",
            "\n",
            "Working with layer type: Efficient\n"
          ]
        },
        {
          "output_type": "stream",
          "name": "stderr",
          "text": [
            "Training Epoch: 0: 100%|██████████| 625/625 [00:05<00:00, 115.55it/s]\n",
            "Test Epoch: 0: 100%|██████████| 63/63 [00:00<00:00, 304.03it/s]\n"
          ]
        },
        {
          "output_type": "stream",
          "name": "stdout",
          "text": [
            " Epoch 0: Train loss: 0.6692 |  Train acc: 0.5328 |                 Val loss: 0.6215 | Val acc: 0.6108\n"
          ]
        },
        {
          "output_type": "stream",
          "name": "stderr",
          "text": [
            "Training Epoch: 1: 100%|██████████| 625/625 [00:06<00:00, 98.72it/s] \n",
            "Test Epoch: 1: 100%|██████████| 63/63 [00:00<00:00, 297.40it/s]\n"
          ]
        },
        {
          "output_type": "stream",
          "name": "stdout",
          "text": [
            " Epoch 1: Train loss: 0.5747 |  Train acc: 0.674 |                 Val loss: 0.5579 | Val acc: 0.6968\n"
          ]
        },
        {
          "output_type": "stream",
          "name": "stderr",
          "text": [
            "Training Epoch: 2: 100%|██████████| 625/625 [00:05<00:00, 114.65it/s]\n",
            "Test Epoch: 2: 100%|██████████| 63/63 [00:00<00:00, 307.64it/s]\n"
          ]
        },
        {
          "output_type": "stream",
          "name": "stdout",
          "text": [
            " Epoch 2: Train loss: 0.5065 |  Train acc: 0.7334 |                 Val loss: 0.541 | Val acc: 0.7235\n"
          ]
        },
        {
          "output_type": "stream",
          "name": "stderr",
          "text": [
            "Training Epoch: 3: 100%|██████████| 625/625 [00:06<00:00, 99.74it/s] \n",
            "Test Epoch: 3: 100%|██████████| 63/63 [00:00<00:00, 274.24it/s]\n"
          ]
        },
        {
          "output_type": "stream",
          "name": "stdout",
          "text": [
            " Epoch 3: Train loss: 0.4569 |  Train acc: 0.7745 |                 Val loss: 0.5312 | Val acc: 0.7308\n"
          ]
        },
        {
          "output_type": "stream",
          "name": "stderr",
          "text": [
            "Training Epoch: 4: 100%|██████████| 625/625 [00:05<00:00, 114.53it/s]\n",
            "Test Epoch: 4: 100%|██████████| 63/63 [00:00<00:00, 320.92it/s]\n"
          ]
        },
        {
          "output_type": "stream",
          "name": "stdout",
          "text": [
            " Epoch 4: Train loss: 0.4151 |  Train acc: 0.8025 |                 Val loss: 0.5421 | Val acc: 0.7393\n"
          ]
        },
        {
          "output_type": "stream",
          "name": "stderr",
          "text": [
            "Training Epoch: 5: 100%|██████████| 625/625 [00:06<00:00, 98.59it/s] \n",
            "Test Epoch: 5: 100%|██████████| 63/63 [00:00<00:00, 299.55it/s]\n"
          ]
        },
        {
          "output_type": "stream",
          "name": "stdout",
          "text": [
            " Epoch 5: Train loss: 0.3729 |  Train acc: 0.8335 |                 Val loss: 0.5807 | Val acc: 0.747\n"
          ]
        },
        {
          "output_type": "stream",
          "name": "stderr",
          "text": [
            "Training Epoch: 6: 100%|██████████| 625/625 [00:05<00:00, 112.82it/s]\n",
            "Test Epoch: 6: 100%|██████████| 63/63 [00:00<00:00, 319.24it/s]\n"
          ]
        },
        {
          "output_type": "stream",
          "name": "stdout",
          "text": [
            " Epoch 6: Train loss: 0.3282 |  Train acc: 0.8608 |                 Val loss: 0.6138 | Val acc: 0.7335\n"
          ]
        },
        {
          "output_type": "stream",
          "name": "stderr",
          "text": [
            "Training Epoch: 7: 100%|██████████| 625/625 [00:06<00:00, 100.45it/s]\n",
            "Test Epoch: 7: 100%|██████████| 63/63 [00:00<00:00, 297.76it/s]\n"
          ]
        },
        {
          "output_type": "stream",
          "name": "stdout",
          "text": [
            " Epoch 7: Train loss: 0.2808 |  Train acc: 0.8862 |                 Val loss: 0.6883 | Val acc: 0.7298\n"
          ]
        },
        {
          "output_type": "stream",
          "name": "stderr",
          "text": [
            "Training Epoch: 8: 100%|██████████| 625/625 [00:05<00:00, 112.61it/s]\n",
            "Test Epoch: 8: 100%|██████████| 63/63 [00:00<00:00, 320.05it/s]\n"
          ]
        },
        {
          "output_type": "stream",
          "name": "stdout",
          "text": [
            " Epoch 8: Train loss: 0.2354 |  Train acc: 0.911 |                 Val loss: 0.7456 | Val acc: 0.7315\n"
          ]
        },
        {
          "output_type": "stream",
          "name": "stderr",
          "text": [
            "Training Epoch: 9: 100%|██████████| 625/625 [00:06<00:00, 102.57it/s]\n",
            "Test Epoch: 9: 100%|██████████| 63/63 [00:00<00:00, 287.20it/s]\n"
          ]
        },
        {
          "output_type": "stream",
          "name": "stdout",
          "text": [
            " Epoch 9: Train loss: 0.1936 |  Train acc: 0.9316 |                 Val loss: 0.8496 | Val acc: 0.7238\n"
          ]
        },
        {
          "output_type": "stream",
          "name": "stderr",
          "text": [
            "Test Epoch: 5: 100%|██████████| 94/94 [00:00<00:00, 304.23it/s]\n"
          ]
        },
        {
          "output_type": "stream",
          "name": "stdout",
          "text": [
            "Best Model: Test Acc 0.7333333492279053 | Test Loss 0.5888476967811584 \n",
            "\n",
            "Working with layer type: Efficient\n"
          ]
        },
        {
          "output_type": "stream",
          "name": "stderr",
          "text": [
            "Training Epoch: 0: 100%|██████████| 625/625 [00:05<00:00, 117.88it/s]\n",
            "Test Epoch: 0: 100%|██████████| 63/63 [00:00<00:00, 308.27it/s]\n"
          ]
        },
        {
          "output_type": "stream",
          "name": "stdout",
          "text": [
            " Epoch 0: Train loss: 0.6668 |  Train acc: 0.5414 |                 Val loss: 0.6273 | Val acc: 0.578\n"
          ]
        },
        {
          "output_type": "stream",
          "name": "stderr",
          "text": [
            "Training Epoch: 1: 100%|██████████| 625/625 [00:05<00:00, 106.51it/s]\n",
            "Test Epoch: 1: 100%|██████████| 63/63 [00:00<00:00, 198.90it/s]\n"
          ]
        },
        {
          "output_type": "stream",
          "name": "stdout",
          "text": [
            " Epoch 1: Train loss: 0.5797 |  Train acc: 0.6744 |                 Val loss: 0.5576 | Val acc: 0.6828\n"
          ]
        },
        {
          "output_type": "stream",
          "name": "stderr",
          "text": [
            "Training Epoch: 2: 100%|██████████| 625/625 [00:05<00:00, 115.69it/s]\n",
            "Test Epoch: 2: 100%|██████████| 63/63 [00:00<00:00, 277.01it/s]\n"
          ]
        },
        {
          "output_type": "stream",
          "name": "stdout",
          "text": [
            " Epoch 2: Train loss: 0.5146 |  Train acc: 0.7331 |                 Val loss: 0.5357 | Val acc: 0.7208\n"
          ]
        },
        {
          "output_type": "stream",
          "name": "stderr",
          "text": [
            "Training Epoch: 3: 100%|██████████| 625/625 [00:05<00:00, 116.59it/s]\n",
            "Test Epoch: 3: 100%|██████████| 63/63 [00:00<00:00, 233.52it/s]\n"
          ]
        },
        {
          "output_type": "stream",
          "name": "stdout",
          "text": [
            " Epoch 3: Train loss: 0.4672 |  Train acc: 0.7686 |                 Val loss: 0.5314 | Val acc: 0.7303\n"
          ]
        },
        {
          "output_type": "stream",
          "name": "stderr",
          "text": [
            "Training Epoch: 4: 100%|██████████| 625/625 [00:05<00:00, 104.88it/s]\n",
            "Test Epoch: 4: 100%|██████████| 63/63 [00:00<00:00, 288.18it/s]\n"
          ]
        },
        {
          "output_type": "stream",
          "name": "stdout",
          "text": [
            " Epoch 4: Train loss: 0.4252 |  Train acc: 0.7977 |                 Val loss: 0.5379 | Val acc: 0.7288\n"
          ]
        },
        {
          "output_type": "stream",
          "name": "stderr",
          "text": [
            "Training Epoch: 5: 100%|██████████| 625/625 [00:05<00:00, 120.69it/s]\n",
            "Test Epoch: 5: 100%|██████████| 63/63 [00:00<00:00, 296.84it/s]\n"
          ]
        },
        {
          "output_type": "stream",
          "name": "stdout",
          "text": [
            " Epoch 5: Train loss: 0.3815 |  Train acc: 0.827 |                 Val loss: 0.5776 | Val acc: 0.7225\n"
          ]
        },
        {
          "output_type": "stream",
          "name": "stderr",
          "text": [
            "Training Epoch: 6: 100%|██████████| 625/625 [00:06<00:00, 100.44it/s]\n",
            "Test Epoch: 6: 100%|██████████| 63/63 [00:00<00:00, 290.63it/s]\n"
          ]
        },
        {
          "output_type": "stream",
          "name": "stdout",
          "text": [
            " Epoch 6: Train loss: 0.3352 |  Train acc: 0.8564 |                 Val loss: 0.6237 | Val acc: 0.7348\n"
          ]
        },
        {
          "output_type": "stream",
          "name": "stderr",
          "text": [
            "Training Epoch: 7: 100%|██████████| 625/625 [00:05<00:00, 119.90it/s]\n",
            "Test Epoch: 7: 100%|██████████| 63/63 [00:00<00:00, 291.54it/s]\n"
          ]
        },
        {
          "output_type": "stream",
          "name": "stdout",
          "text": [
            " Epoch 7: Train loss: 0.2903 |  Train acc: 0.8833 |                 Val loss: 0.6637 | Val acc: 0.7295\n"
          ]
        },
        {
          "output_type": "stream",
          "name": "stderr",
          "text": [
            "Training Epoch: 8: 100%|██████████| 625/625 [00:06<00:00, 99.57it/s] \n",
            "Test Epoch: 8: 100%|██████████| 63/63 [00:00<00:00, 312.46it/s]\n"
          ]
        },
        {
          "output_type": "stream",
          "name": "stdout",
          "text": [
            " Epoch 8: Train loss: 0.2455 |  Train acc: 0.9052 |                 Val loss: 0.7588 | Val acc: 0.7293\n"
          ]
        },
        {
          "output_type": "stream",
          "name": "stderr",
          "text": [
            "Training Epoch: 9: 100%|██████████| 625/625 [00:05<00:00, 120.10it/s]\n",
            "Test Epoch: 9: 100%|██████████| 63/63 [00:00<00:00, 307.00it/s]\n"
          ]
        },
        {
          "output_type": "stream",
          "name": "stdout",
          "text": [
            " Epoch 9: Train loss: 0.2053 |  Train acc: 0.9259 |                 Val loss: 0.796 | Val acc: 0.7218\n"
          ]
        },
        {
          "output_type": "stream",
          "name": "stderr",
          "text": [
            "Test Epoch: 6: 100%|██████████| 94/94 [00:00<00:00, 297.59it/s]\n"
          ]
        },
        {
          "output_type": "stream",
          "name": "stdout",
          "text": [
            "Best Model: Test Acc 0.7364999651908875 | Test Loss 0.6132660508155823 \n",
            "\n",
            "Working with layer type: Efficient\n"
          ]
        },
        {
          "output_type": "stream",
          "name": "stderr",
          "text": [
            "Training Epoch: 0: 100%|██████████| 625/625 [00:06<00:00, 101.47it/s]\n",
            "Test Epoch: 0: 100%|██████████| 63/63 [00:00<00:00, 318.46it/s]\n"
          ]
        },
        {
          "output_type": "stream",
          "name": "stdout",
          "text": [
            " Epoch 0: Train loss: 0.6687 |  Train acc: 0.541 |                 Val loss: 0.6176 | Val acc: 0.6203\n"
          ]
        },
        {
          "output_type": "stream",
          "name": "stderr",
          "text": [
            "Training Epoch: 1: 100%|██████████| 625/625 [00:05<00:00, 120.49it/s]\n",
            "Test Epoch: 1: 100%|██████████| 63/63 [00:00<00:00, 274.93it/s]\n"
          ]
        },
        {
          "output_type": "stream",
          "name": "stdout",
          "text": [
            " Epoch 1: Train loss: 0.5833 |  Train acc: 0.6671 |                 Val loss: 0.5588 | Val acc: 0.707\n"
          ]
        },
        {
          "output_type": "stream",
          "name": "stderr",
          "text": [
            "Training Epoch: 2: 100%|██████████| 625/625 [00:06<00:00, 100.68it/s]\n",
            "Test Epoch: 2: 100%|██████████| 63/63 [00:00<00:00, 308.86it/s]\n"
          ]
        },
        {
          "output_type": "stream",
          "name": "stdout",
          "text": [
            " Epoch 2: Train loss: 0.5188 |  Train acc: 0.7279 |                 Val loss: 0.5341 | Val acc: 0.7233\n"
          ]
        },
        {
          "output_type": "stream",
          "name": "stderr",
          "text": [
            "Training Epoch: 3: 100%|██████████| 625/625 [00:05<00:00, 121.02it/s]\n",
            "Test Epoch: 3: 100%|██████████| 63/63 [00:00<00:00, 280.44it/s]\n"
          ]
        },
        {
          "output_type": "stream",
          "name": "stdout",
          "text": [
            " Epoch 3: Train loss: 0.4691 |  Train acc: 0.7631 |                 Val loss: 0.5307 | Val acc: 0.7275\n"
          ]
        },
        {
          "output_type": "stream",
          "name": "stderr",
          "text": [
            "Training Epoch: 4: 100%|██████████| 625/625 [00:05<00:00, 104.62it/s]\n",
            "Test Epoch: 4: 100%|██████████| 63/63 [00:00<00:00, 204.57it/s]\n"
          ]
        },
        {
          "output_type": "stream",
          "name": "stdout",
          "text": [
            " Epoch 4: Train loss: 0.4262 |  Train acc: 0.7989 |                 Val loss: 0.5447 | Val acc: 0.7338\n"
          ]
        },
        {
          "output_type": "stream",
          "name": "stderr",
          "text": [
            "Training Epoch: 5: 100%|██████████| 625/625 [00:05<00:00, 116.78it/s]\n",
            "Test Epoch: 5: 100%|██████████| 63/63 [00:00<00:00, 265.68it/s]\n"
          ]
        },
        {
          "output_type": "stream",
          "name": "stdout",
          "text": [
            " Epoch 5: Train loss: 0.3799 |  Train acc: 0.8293 |                 Val loss: 0.5583 | Val acc: 0.7315\n"
          ]
        },
        {
          "output_type": "stream",
          "name": "stderr",
          "text": [
            "Training Epoch: 6: 100%|██████████| 625/625 [00:05<00:00, 111.91it/s]\n",
            "Test Epoch: 6: 100%|██████████| 63/63 [00:00<00:00, 230.87it/s]\n"
          ]
        },
        {
          "output_type": "stream",
          "name": "stdout",
          "text": [
            " Epoch 6: Train loss: 0.3351 |  Train acc: 0.8578 |                 Val loss: 0.6171 | Val acc: 0.733\n"
          ]
        },
        {
          "output_type": "stream",
          "name": "stderr",
          "text": [
            "Training Epoch: 7: 100%|██████████| 625/625 [00:05<00:00, 107.57it/s]\n",
            "Test Epoch: 7: 100%|██████████| 63/63 [00:00<00:00, 302.61it/s]\n"
          ]
        },
        {
          "output_type": "stream",
          "name": "stdout",
          "text": [
            " Epoch 7: Train loss: 0.2874 |  Train acc: 0.8835 |                 Val loss: 0.6579 | Val acc: 0.7315\n"
          ]
        },
        {
          "output_type": "stream",
          "name": "stderr",
          "text": [
            "Training Epoch: 8: 100%|██████████| 625/625 [00:05<00:00, 118.53it/s]\n",
            "Test Epoch: 8: 100%|██████████| 63/63 [00:00<00:00, 319.98it/s]\n"
          ]
        },
        {
          "output_type": "stream",
          "name": "stdout",
          "text": [
            " Epoch 8: Train loss: 0.245 |  Train acc: 0.9047 |                 Val loss: 0.7339 | Val acc: 0.7245\n"
          ]
        },
        {
          "output_type": "stream",
          "name": "stderr",
          "text": [
            "Training Epoch: 9: 100%|██████████| 625/625 [00:06<00:00, 103.74it/s]\n",
            "Test Epoch: 9: 100%|██████████| 63/63 [00:00<00:00, 283.13it/s]\n"
          ]
        },
        {
          "output_type": "stream",
          "name": "stdout",
          "text": [
            " Epoch 9: Train loss: 0.2012 |  Train acc: 0.9262 |                 Val loss: 0.8081 | Val acc: 0.7323\n"
          ]
        },
        {
          "output_type": "stream",
          "name": "stderr",
          "text": [
            "Test Epoch: 4: 100%|██████████| 94/94 [00:00<00:00, 315.73it/s]\n"
          ]
        },
        {
          "output_type": "stream",
          "name": "stdout",
          "text": [
            "Best Model: Test Acc 0.7266666293144226 | Test Loss 0.5571174025535583 \n",
            "\n",
            "Working with layer type: Super\n"
          ]
        },
        {
          "output_type": "stream",
          "name": "stderr",
          "text": [
            "Training Epoch: 0: 100%|██████████| 625/625 [00:06<00:00, 103.01it/s]\n",
            "Test Epoch: 0: 100%|██████████| 63/63 [00:00<00:00, 215.20it/s]\n"
          ]
        },
        {
          "output_type": "stream",
          "name": "stdout",
          "text": [
            " Epoch 0: Train loss: 0.6681 |  Train acc: 0.535 |                 Val loss: 0.6126 | Val acc: 0.624\n"
          ]
        },
        {
          "output_type": "stream",
          "name": "stderr",
          "text": [
            "Training Epoch: 1: 100%|██████████| 625/625 [00:06<00:00, 91.06it/s] \n",
            "Test Epoch: 1: 100%|██████████| 63/63 [00:00<00:00, 266.13it/s]\n"
          ]
        },
        {
          "output_type": "stream",
          "name": "stdout",
          "text": [
            " Epoch 1: Train loss: 0.5715 |  Train acc: 0.6835 |                 Val loss: 0.5438 | Val acc: 0.706\n"
          ]
        },
        {
          "output_type": "stream",
          "name": "stderr",
          "text": [
            "Training Epoch: 2: 100%|██████████| 625/625 [00:06<00:00, 101.16it/s]\n",
            "Test Epoch: 2: 100%|██████████| 63/63 [00:00<00:00, 213.77it/s]\n"
          ]
        },
        {
          "output_type": "stream",
          "name": "stdout",
          "text": [
            " Epoch 2: Train loss: 0.505 |  Train acc: 0.7373 |                 Val loss: 0.5245 | Val acc: 0.7268\n"
          ]
        },
        {
          "output_type": "stream",
          "name": "stderr",
          "text": [
            "Training Epoch: 3: 100%|██████████| 625/625 [00:06<00:00, 93.65it/s] \n",
            "Test Epoch: 3: 100%|██████████| 63/63 [00:00<00:00, 242.05it/s]\n"
          ]
        },
        {
          "output_type": "stream",
          "name": "stdout",
          "text": [
            " Epoch 3: Train loss: 0.4612 |  Train acc: 0.7693 |                 Val loss: 0.5126 | Val acc: 0.723\n"
          ]
        },
        {
          "output_type": "stream",
          "name": "stderr",
          "text": [
            "Training Epoch: 4: 100%|██████████| 625/625 [00:06<00:00, 96.86it/s]\n",
            "Test Epoch: 4: 100%|██████████| 63/63 [00:00<00:00, 177.63it/s]\n"
          ]
        },
        {
          "output_type": "stream",
          "name": "stdout",
          "text": [
            " Epoch 4: Train loss: 0.4265 |  Train acc: 0.7917 |                 Val loss: 0.5205 | Val acc: 0.7368\n"
          ]
        },
        {
          "output_type": "stream",
          "name": "stderr",
          "text": [
            "Training Epoch: 5: 100%|██████████| 625/625 [00:06<00:00, 97.33it/s] \n",
            "Test Epoch: 5: 100%|██████████| 63/63 [00:00<00:00, 260.78it/s]\n"
          ]
        },
        {
          "output_type": "stream",
          "name": "stdout",
          "text": [
            " Epoch 5: Train loss: 0.3945 |  Train acc: 0.8133 |                 Val loss: 0.514 | Val acc: 0.7445\n"
          ]
        },
        {
          "output_type": "stream",
          "name": "stderr",
          "text": [
            "Training Epoch: 6: 100%|██████████| 625/625 [00:06<00:00, 90.01it/s]\n",
            "Test Epoch: 6: 100%|██████████| 63/63 [00:00<00:00, 176.84it/s]\n"
          ]
        },
        {
          "output_type": "stream",
          "name": "stdout",
          "text": [
            " Epoch 6: Train loss: 0.3641 |  Train acc: 0.832 |                 Val loss: 0.5458 | Val acc: 0.7465\n"
          ]
        },
        {
          "output_type": "stream",
          "name": "stderr",
          "text": [
            "Training Epoch: 7: 100%|██████████| 625/625 [00:06<00:00, 103.16it/s]\n",
            "Test Epoch: 7: 100%|██████████| 63/63 [00:00<00:00, 259.29it/s]\n"
          ]
        },
        {
          "output_type": "stream",
          "name": "stdout",
          "text": [
            " Epoch 7: Train loss: 0.3339 |  Train acc: 0.8505 |                 Val loss: 0.5928 | Val acc: 0.7305\n"
          ]
        },
        {
          "output_type": "stream",
          "name": "stderr",
          "text": [
            "Training Epoch: 8: 100%|██████████| 625/625 [00:06<00:00, 89.54it/s]\n",
            "Test Epoch: 8: 100%|██████████| 63/63 [00:00<00:00, 270.62it/s]\n"
          ]
        },
        {
          "output_type": "stream",
          "name": "stdout",
          "text": [
            " Epoch 8: Train loss: 0.3011 |  Train acc: 0.869 |                 Val loss: 0.6458 | Val acc: 0.7435\n"
          ]
        },
        {
          "output_type": "stream",
          "name": "stderr",
          "text": [
            "Training Epoch: 9: 100%|██████████| 625/625 [00:06<00:00, 102.27it/s]\n",
            "Test Epoch: 9: 100%|██████████| 63/63 [00:00<00:00, 265.81it/s]\n"
          ]
        },
        {
          "output_type": "stream",
          "name": "stdout",
          "text": [
            " Epoch 9: Train loss: 0.2688 |  Train acc: 0.8876 |                 Val loss: 0.6712 | Val acc: 0.7335\n"
          ]
        },
        {
          "output_type": "stream",
          "name": "stderr",
          "text": [
            "Test Epoch: 6: 100%|██████████| 94/94 [00:00<00:00, 263.49it/s]\n"
          ]
        },
        {
          "output_type": "stream",
          "name": "stdout",
          "text": [
            "Best Model: Test Acc 0.7423333525657654 | Test Loss 0.5536013841629028 \n",
            "\n",
            "Working with layer type: Super\n"
          ]
        },
        {
          "output_type": "stream",
          "name": "stderr",
          "text": [
            "Training Epoch: 0: 100%|██████████| 625/625 [00:07<00:00, 88.58it/s] \n",
            "Test Epoch: 0: 100%|██████████| 63/63 [00:00<00:00, 252.91it/s]\n"
          ]
        },
        {
          "output_type": "stream",
          "name": "stdout",
          "text": [
            " Epoch 0: Train loss: 0.6773 |  Train acc: 0.5263 |                 Val loss: 0.6259 | Val acc: 0.6155\n"
          ]
        },
        {
          "output_type": "stream",
          "name": "stderr",
          "text": [
            "Training Epoch: 1: 100%|██████████| 625/625 [00:06<00:00, 103.62it/s]\n",
            "Test Epoch: 1: 100%|██████████| 63/63 [00:00<00:00, 267.23it/s]\n"
          ]
        },
        {
          "output_type": "stream",
          "name": "stdout",
          "text": [
            " Epoch 1: Train loss: 0.5892 |  Train acc: 0.6692 |                 Val loss: 0.5618 | Val acc: 0.6695\n"
          ]
        },
        {
          "output_type": "stream",
          "name": "stderr",
          "text": [
            "Training Epoch: 2: 100%|██████████| 625/625 [00:07<00:00, 87.46it/s] \n",
            "Test Epoch: 2: 100%|██████████| 63/63 [00:00<00:00, 276.88it/s]\n"
          ]
        },
        {
          "output_type": "stream",
          "name": "stdout",
          "text": [
            " Epoch 2: Train loss: 0.5191 |  Train acc: 0.7346 |                 Val loss: 0.5293 | Val acc: 0.7133\n"
          ]
        },
        {
          "output_type": "stream",
          "name": "stderr",
          "text": [
            "Training Epoch: 3: 100%|██████████| 625/625 [00:06<00:00, 102.34it/s]\n",
            "Test Epoch: 3: 100%|██████████| 63/63 [00:00<00:00, 260.53it/s]\n"
          ]
        },
        {
          "output_type": "stream",
          "name": "stdout",
          "text": [
            " Epoch 3: Train loss: 0.469 |  Train acc: 0.7701 |                 Val loss: 0.5158 | Val acc: 0.7368\n"
          ]
        },
        {
          "output_type": "stream",
          "name": "stderr",
          "text": [
            "Training Epoch: 4: 100%|██████████| 625/625 [00:07<00:00, 87.75it/s] \n",
            "Test Epoch: 4: 100%|██████████| 63/63 [00:00<00:00, 265.95it/s]\n"
          ]
        },
        {
          "output_type": "stream",
          "name": "stdout",
          "text": [
            " Epoch 4: Train loss: 0.4286 |  Train acc: 0.7988 |                 Val loss: 0.5258 | Val acc: 0.737\n"
          ]
        },
        {
          "output_type": "stream",
          "name": "stderr",
          "text": [
            "Training Epoch: 5: 100%|██████████| 625/625 [00:06<00:00, 102.77it/s]\n",
            "Test Epoch: 5: 100%|██████████| 63/63 [00:00<00:00, 182.86it/s]\n"
          ]
        },
        {
          "output_type": "stream",
          "name": "stdout",
          "text": [
            " Epoch 5: Train loss: 0.393 |  Train acc: 0.8225 |                 Val loss: 0.5428 | Val acc: 0.747\n"
          ]
        },
        {
          "output_type": "stream",
          "name": "stderr",
          "text": [
            "Training Epoch: 6: 100%|██████████| 625/625 [00:07<00:00, 87.72it/s] \n",
            "Test Epoch: 6: 100%|██████████| 63/63 [00:00<00:00, 283.56it/s]\n"
          ]
        },
        {
          "output_type": "stream",
          "name": "stdout",
          "text": [
            " Epoch 6: Train loss: 0.3569 |  Train acc: 0.8433 |                 Val loss: 0.5722 | Val acc: 0.752\n"
          ]
        },
        {
          "output_type": "stream",
          "name": "stderr",
          "text": [
            "Training Epoch: 7: 100%|██████████| 625/625 [00:06<00:00, 96.16it/s]\n",
            "Test Epoch: 7: 100%|██████████| 63/63 [00:00<00:00, 176.27it/s]\n"
          ]
        },
        {
          "output_type": "stream",
          "name": "stdout",
          "text": [
            " Epoch 7: Train loss: 0.3219 |  Train acc: 0.8652 |                 Val loss: 0.6065 | Val acc: 0.7465\n"
          ]
        },
        {
          "output_type": "stream",
          "name": "stderr",
          "text": [
            "Training Epoch: 8: 100%|██████████| 625/625 [00:06<00:00, 92.35it/s] \n",
            "Test Epoch: 8: 100%|██████████| 63/63 [00:00<00:00, 265.74it/s]\n"
          ]
        },
        {
          "output_type": "stream",
          "name": "stdout",
          "text": [
            " Epoch 8: Train loss: 0.2825 |  Train acc: 0.8876 |                 Val loss: 0.6381 | Val acc: 0.7455\n"
          ]
        },
        {
          "output_type": "stream",
          "name": "stderr",
          "text": [
            "Training Epoch: 9: 100%|██████████| 625/625 [00:06<00:00, 89.55it/s]\n",
            "Test Epoch: 9: 100%|██████████| 63/63 [00:00<00:00, 223.79it/s]\n"
          ]
        },
        {
          "output_type": "stream",
          "name": "stdout",
          "text": [
            " Epoch 9: Train loss: 0.2455 |  Train acc: 0.9092 |                 Val loss: 0.7118 | Val acc: 0.7323\n"
          ]
        },
        {
          "output_type": "stream",
          "name": "stderr",
          "text": [
            "Test Epoch: 6: 100%|██████████| 94/94 [00:00<00:00, 277.21it/s]\n"
          ]
        },
        {
          "output_type": "stream",
          "name": "stdout",
          "text": [
            "Best Model: Test Acc 0.7393333315849304 | Test Loss 0.5834963917732239 \n",
            "\n",
            "Working with layer type: Super\n"
          ]
        },
        {
          "output_type": "stream",
          "name": "stderr",
          "text": [
            "Training Epoch: 0: 100%|██████████| 625/625 [00:06<00:00, 96.75it/s]\n",
            "Test Epoch: 0: 100%|██████████| 63/63 [00:00<00:00, 243.68it/s]\n"
          ]
        },
        {
          "output_type": "stream",
          "name": "stdout",
          "text": [
            " Epoch 0: Train loss: 0.6862 |  Train acc: 0.5048 |                 Val loss: 0.6347 | Val acc: 0.6023\n"
          ]
        },
        {
          "output_type": "stream",
          "name": "stderr",
          "text": [
            "Training Epoch: 1: 100%|██████████| 625/625 [00:07<00:00, 88.56it/s]\n",
            "Test Epoch: 1: 100%|██████████| 63/63 [00:00<00:00, 252.15it/s]\n"
          ]
        },
        {
          "output_type": "stream",
          "name": "stdout",
          "text": [
            " Epoch 1: Train loss: 0.5876 |  Train acc: 0.6702 |                 Val loss: 0.5484 | Val acc: 0.7053\n"
          ]
        },
        {
          "output_type": "stream",
          "name": "stderr",
          "text": [
            "Training Epoch: 2: 100%|██████████| 625/625 [00:06<00:00, 99.64it/s]\n",
            "Test Epoch: 2: 100%|██████████| 63/63 [00:00<00:00, 255.10it/s]\n"
          ]
        },
        {
          "output_type": "stream",
          "name": "stdout",
          "text": [
            " Epoch 2: Train loss: 0.515 |  Train acc: 0.7325 |                 Val loss: 0.5233 | Val acc: 0.7218\n"
          ]
        },
        {
          "output_type": "stream",
          "name": "stderr",
          "text": [
            "Training Epoch: 3: 100%|██████████| 625/625 [00:07<00:00, 87.98it/s] \n",
            "Test Epoch: 3: 100%|██████████| 63/63 [00:00<00:00, 260.12it/s]\n"
          ]
        },
        {
          "output_type": "stream",
          "name": "stdout",
          "text": [
            " Epoch 3: Train loss: 0.4696 |  Train acc: 0.7676 |                 Val loss: 0.5223 | Val acc: 0.7448\n"
          ]
        },
        {
          "output_type": "stream",
          "name": "stderr",
          "text": [
            "Training Epoch: 4: 100%|██████████| 625/625 [00:06<00:00, 103.41it/s]\n",
            "Test Epoch: 4: 100%|██████████| 63/63 [00:00<00:00, 273.58it/s]\n"
          ]
        },
        {
          "output_type": "stream",
          "name": "stdout",
          "text": [
            " Epoch 4: Train loss: 0.4328 |  Train acc: 0.7939 |                 Val loss: 0.5177 | Val acc: 0.7428\n"
          ]
        },
        {
          "output_type": "stream",
          "name": "stderr",
          "text": [
            "Training Epoch: 5: 100%|██████████| 625/625 [00:06<00:00, 90.19it/s] \n",
            "Test Epoch: 5: 100%|██████████| 63/63 [00:00<00:00, 250.72it/s]\n"
          ]
        },
        {
          "output_type": "stream",
          "name": "stdout",
          "text": [
            " Epoch 5: Train loss: 0.4005 |  Train acc: 0.8156 |                 Val loss: 0.5304 | Val acc: 0.7463\n"
          ]
        },
        {
          "output_type": "stream",
          "name": "stderr",
          "text": [
            "Training Epoch: 6: 100%|██████████| 625/625 [00:06<00:00, 102.08it/s]\n",
            "Test Epoch: 6: 100%|██████████| 63/63 [00:00<00:00, 271.01it/s]\n"
          ]
        },
        {
          "output_type": "stream",
          "name": "stdout",
          "text": [
            " Epoch 6: Train loss: 0.3656 |  Train acc: 0.8379 |                 Val loss: 0.5408 | Val acc: 0.742\n"
          ]
        },
        {
          "output_type": "stream",
          "name": "stderr",
          "text": [
            "Training Epoch: 7: 100%|██████████| 625/625 [00:07<00:00, 88.68it/s] \n",
            "Test Epoch: 7: 100%|██████████| 63/63 [00:00<00:00, 258.99it/s]\n"
          ]
        },
        {
          "output_type": "stream",
          "name": "stdout",
          "text": [
            " Epoch 7: Train loss: 0.3307 |  Train acc: 0.8591 |                 Val loss: 0.5844 | Val acc: 0.7448\n"
          ]
        },
        {
          "output_type": "stream",
          "name": "stderr",
          "text": [
            "Training Epoch: 8: 100%|██████████| 625/625 [00:06<00:00, 101.23it/s]\n",
            "Test Epoch: 8: 100%|██████████| 63/63 [00:00<00:00, 190.21it/s]\n"
          ]
        },
        {
          "output_type": "stream",
          "name": "stdout",
          "text": [
            " Epoch 8: Train loss: 0.2953 |  Train acc: 0.8816 |                 Val loss: 0.6134 | Val acc: 0.7478\n"
          ]
        },
        {
          "output_type": "stream",
          "name": "stderr",
          "text": [
            "Training Epoch: 9: 100%|██████████| 625/625 [00:06<00:00, 92.32it/s] \n",
            "Test Epoch: 9: 100%|██████████| 63/63 [00:00<00:00, 261.07it/s]\n"
          ]
        },
        {
          "output_type": "stream",
          "name": "stdout",
          "text": [
            " Epoch 9: Train loss: 0.262 |  Train acc: 0.8994 |                 Val loss: 0.6653 | Val acc: 0.738\n"
          ]
        },
        {
          "output_type": "stream",
          "name": "stderr",
          "text": [
            "Test Epoch: 8: 100%|██████████| 94/94 [00:00<00:00, 281.06it/s]\n"
          ]
        },
        {
          "output_type": "stream",
          "name": "stdout",
          "text": [
            "Best Model: Test Acc 0.7448333501815796 | Test Loss 0.6306514143943787 \n",
            "\n",
            "Working with layer type: Super\n"
          ]
        },
        {
          "output_type": "stream",
          "name": "stderr",
          "text": [
            "Training Epoch: 0: 100%|██████████| 625/625 [00:06<00:00, 94.19it/s]\n",
            "Test Epoch: 0: 100%|██████████| 63/63 [00:00<00:00, 182.86it/s]\n"
          ]
        },
        {
          "output_type": "stream",
          "name": "stdout",
          "text": [
            " Epoch 0: Train loss: 0.6714 |  Train acc: 0.5333 |                 Val loss: 0.6146 | Val acc: 0.625\n"
          ]
        },
        {
          "output_type": "stream",
          "name": "stderr",
          "text": [
            "Training Epoch: 1: 100%|██████████| 625/625 [00:06<00:00, 100.34it/s]\n",
            "Test Epoch: 1: 100%|██████████| 63/63 [00:00<00:00, 259.42it/s]\n"
          ]
        },
        {
          "output_type": "stream",
          "name": "stdout",
          "text": [
            " Epoch 1: Train loss: 0.5714 |  Train acc: 0.6744 |                 Val loss: 0.5512 | Val acc: 0.7033\n"
          ]
        },
        {
          "output_type": "stream",
          "name": "stderr",
          "text": [
            "Training Epoch: 2: 100%|██████████| 625/625 [00:06<00:00, 90.39it/s]\n",
            "Test Epoch: 2: 100%|██████████| 63/63 [00:00<00:00, 185.74it/s]\n"
          ]
        },
        {
          "output_type": "stream",
          "name": "stdout",
          "text": [
            " Epoch 2: Train loss: 0.508 |  Train acc: 0.73 |                 Val loss: 0.529 | Val acc: 0.7263\n"
          ]
        },
        {
          "output_type": "stream",
          "name": "stderr",
          "text": [
            "Training Epoch: 3: 100%|██████████| 625/625 [00:05<00:00, 104.99it/s]\n",
            "Test Epoch: 3: 100%|██████████| 63/63 [00:00<00:00, 256.51it/s]\n"
          ]
        },
        {
          "output_type": "stream",
          "name": "stdout",
          "text": [
            " Epoch 3: Train loss: 0.4658 |  Train acc: 0.7596 |                 Val loss: 0.5331 | Val acc: 0.706\n"
          ]
        },
        {
          "output_type": "stream",
          "name": "stderr",
          "text": [
            "Training Epoch: 4: 100%|██████████| 625/625 [00:06<00:00, 89.80it/s]\n",
            "Test Epoch: 4: 100%|██████████| 63/63 [00:00<00:00, 276.75it/s]\n"
          ]
        },
        {
          "output_type": "stream",
          "name": "stdout",
          "text": [
            " Epoch 4: Train loss: 0.4292 |  Train acc: 0.7864 |                 Val loss: 0.5278 | Val acc: 0.7458\n"
          ]
        },
        {
          "output_type": "stream",
          "name": "stderr",
          "text": [
            "Training Epoch: 5: 100%|██████████| 625/625 [00:05<00:00, 105.15it/s]\n",
            "Test Epoch: 5: 100%|██████████| 63/63 [00:00<00:00, 264.19it/s]\n"
          ]
        },
        {
          "output_type": "stream",
          "name": "stdout",
          "text": [
            " Epoch 5: Train loss: 0.3947 |  Train acc: 0.8087 |                 Val loss: 0.5398 | Val acc: 0.7483\n"
          ]
        },
        {
          "output_type": "stream",
          "name": "stderr",
          "text": [
            "Training Epoch: 6: 100%|██████████| 625/625 [00:07<00:00, 88.91it/s] \n",
            "Test Epoch: 6: 100%|██████████| 63/63 [00:00<00:00, 259.76it/s]\n"
          ]
        },
        {
          "output_type": "stream",
          "name": "stdout",
          "text": [
            " Epoch 6: Train loss: 0.3608 |  Train acc: 0.8321 |                 Val loss: 0.551 | Val acc: 0.7483\n"
          ]
        },
        {
          "output_type": "stream",
          "name": "stderr",
          "text": [
            "Training Epoch: 7: 100%|██████████| 625/625 [00:05<00:00, 104.61it/s]\n",
            "Test Epoch: 7: 100%|██████████| 63/63 [00:00<00:00, 262.33it/s]\n"
          ]
        },
        {
          "output_type": "stream",
          "name": "stdout",
          "text": [
            " Epoch 7: Train loss: 0.3256 |  Train acc: 0.8533 |                 Val loss: 0.6017 | Val acc: 0.7425\n"
          ]
        },
        {
          "output_type": "stream",
          "name": "stderr",
          "text": [
            "Training Epoch: 8: 100%|██████████| 625/625 [00:06<00:00, 90.19it/s] \n",
            "Test Epoch: 8: 100%|██████████| 63/63 [00:00<00:00, 283.09it/s]\n"
          ]
        },
        {
          "output_type": "stream",
          "name": "stdout",
          "text": [
            " Epoch 8: Train loss: 0.2911 |  Train acc: 0.8748 |                 Val loss: 0.6555 | Val acc: 0.74\n"
          ]
        },
        {
          "output_type": "stream",
          "name": "stderr",
          "text": [
            "Training Epoch: 9: 100%|██████████| 625/625 [00:05<00:00, 104.29it/s]\n",
            "Test Epoch: 9: 100%|██████████| 63/63 [00:00<00:00, 239.66it/s]\n"
          ]
        },
        {
          "output_type": "stream",
          "name": "stdout",
          "text": [
            " Epoch 9: Train loss: 0.2581 |  Train acc: 0.8933 |                 Val loss: 0.6626 | Val acc: 0.7415\n"
          ]
        },
        {
          "output_type": "stream",
          "name": "stderr",
          "text": [
            "Test Epoch: 6: 100%|██████████| 94/94 [00:00<00:00, 273.19it/s]\n"
          ]
        },
        {
          "output_type": "stream",
          "name": "stdout",
          "text": [
            "Best Model: Test Acc 0.7416666746139526 | Test Loss 0.5463690757751465 \n",
            "\n",
            "Working with layer type: Super\n"
          ]
        },
        {
          "output_type": "stream",
          "name": "stderr",
          "text": [
            "Training Epoch: 0: 100%|██████████| 625/625 [00:07<00:00, 89.26it/s] \n",
            "Test Epoch: 0: 100%|██████████| 63/63 [00:00<00:00, 292.98it/s]\n"
          ]
        },
        {
          "output_type": "stream",
          "name": "stdout",
          "text": [
            " Epoch 0: Train loss: 0.6857 |  Train acc: 0.5132 |                 Val loss: 0.6298 | Val acc: 0.619\n"
          ]
        },
        {
          "output_type": "stream",
          "name": "stderr",
          "text": [
            "Training Epoch: 1: 100%|██████████| 625/625 [00:05<00:00, 105.14it/s]\n",
            "Test Epoch: 1: 100%|██████████| 63/63 [00:00<00:00, 272.22it/s]\n"
          ]
        },
        {
          "output_type": "stream",
          "name": "stdout",
          "text": [
            " Epoch 1: Train loss: 0.5856 |  Train acc: 0.6741 |                 Val loss: 0.5553 | Val acc: 0.6848\n"
          ]
        },
        {
          "output_type": "stream",
          "name": "stderr",
          "text": [
            "Training Epoch: 2: 100%|██████████| 625/625 [00:07<00:00, 88.73it/s] \n",
            "Test Epoch: 2: 100%|██████████| 63/63 [00:00<00:00, 281.12it/s]\n"
          ]
        },
        {
          "output_type": "stream",
          "name": "stdout",
          "text": [
            " Epoch 2: Train loss: 0.5154 |  Train acc: 0.7336 |                 Val loss: 0.5323 | Val acc: 0.7048\n"
          ]
        },
        {
          "output_type": "stream",
          "name": "stderr",
          "text": [
            "Training Epoch: 3: 100%|██████████| 625/625 [00:05<00:00, 104.31it/s]\n",
            "Test Epoch: 3: 100%|██████████| 63/63 [00:00<00:00, 181.31it/s]\n"
          ]
        },
        {
          "output_type": "stream",
          "name": "stdout",
          "text": [
            " Epoch 3: Train loss: 0.4673 |  Train acc: 0.7659 |                 Val loss: 0.5181 | Val acc: 0.7318\n"
          ]
        },
        {
          "output_type": "stream",
          "name": "stderr",
          "text": [
            "Training Epoch: 4: 100%|██████████| 625/625 [00:06<00:00, 91.26it/s] \n",
            "Test Epoch: 4: 100%|██████████| 63/63 [00:00<00:00, 251.79it/s]\n"
          ]
        },
        {
          "output_type": "stream",
          "name": "stdout",
          "text": [
            " Epoch 4: Train loss: 0.4302 |  Train acc: 0.791 |                 Val loss: 0.5198 | Val acc: 0.722\n"
          ]
        },
        {
          "output_type": "stream",
          "name": "stderr",
          "text": [
            "Training Epoch: 5: 100%|██████████| 625/625 [00:06<00:00, 101.47it/s]\n",
            "Test Epoch: 5: 100%|██████████| 63/63 [00:00<00:00, 191.08it/s]\n"
          ]
        },
        {
          "output_type": "stream",
          "name": "stdout",
          "text": [
            " Epoch 5: Train loss: 0.398 |  Train acc: 0.8101 |                 Val loss: 0.5385 | Val acc: 0.7513\n"
          ]
        },
        {
          "output_type": "stream",
          "name": "stderr",
          "text": [
            "Training Epoch: 6: 100%|██████████| 625/625 [00:06<00:00, 93.12it/s] \n",
            "Test Epoch: 6: 100%|██████████| 63/63 [00:00<00:00, 280.57it/s]\n"
          ]
        },
        {
          "output_type": "stream",
          "name": "stdout",
          "text": [
            " Epoch 6: Train loss: 0.3643 |  Train acc: 0.8325 |                 Val loss: 0.5704 | Val acc: 0.74\n"
          ]
        },
        {
          "output_type": "stream",
          "name": "stderr",
          "text": [
            "Training Epoch: 7: 100%|██████████| 625/625 [00:06<00:00, 98.82it/s]\n",
            "Test Epoch: 7: 100%|██████████| 63/63 [00:00<00:00, 175.45it/s]\n"
          ]
        },
        {
          "output_type": "stream",
          "name": "stdout",
          "text": [
            " Epoch 7: Train loss: 0.3311 |  Train acc: 0.852 |                 Val loss: 0.5764 | Val acc: 0.7468\n"
          ]
        },
        {
          "output_type": "stream",
          "name": "stderr",
          "text": [
            "Training Epoch: 8: 100%|██████████| 625/625 [00:06<00:00, 94.45it/s] \n",
            "Test Epoch: 8: 100%|██████████| 63/63 [00:00<00:00, 269.86it/s]\n"
          ]
        },
        {
          "output_type": "stream",
          "name": "stdout",
          "text": [
            " Epoch 8: Train loss: 0.2983 |  Train acc: 0.8752 |                 Val loss: 0.6067 | Val acc: 0.7418\n"
          ]
        },
        {
          "output_type": "stream",
          "name": "stderr",
          "text": [
            "Training Epoch: 9: 100%|██████████| 625/625 [00:06<00:00, 94.79it/s]\n",
            "Test Epoch: 9: 100%|██████████| 63/63 [00:00<00:00, 167.46it/s]\n"
          ]
        },
        {
          "output_type": "stream",
          "name": "stdout",
          "text": [
            " Epoch 9: Train loss: 0.2684 |  Train acc: 0.8931 |                 Val loss: 0.6472 | Val acc: 0.7353\n"
          ]
        },
        {
          "output_type": "stream",
          "name": "stderr",
          "text": [
            "Test Epoch: 5: 100%|██████████| 94/94 [00:00<00:00, 237.23it/s]\n"
          ]
        },
        {
          "output_type": "stream",
          "name": "stdout",
          "text": [
            "Best Model: Test Acc 0.7379999756813049 | Test Loss 0.5473145842552185 \n",
            "\n"
          ]
        }
      ],
      "source": [
        "\"\"\"\n",
        "## \"You Need to Pay Better Attention\" Pytorch Transformer Example\n",
        "\n",
        "## Paper Link: https://arxiv.org/abs/2403.01643\n",
        "\n",
        "## Author: Nicholas Mesa-Cucalon (https://github.com/NMesaC)\n",
        "\"\"\"\n",
        "import torch\n",
        "import time\n",
        "import os\n",
        "\n",
        "from torch import nn\n",
        "from tqdm import tqdm\n",
        "\n",
        "\n",
        "import math\n",
        "import torch\n",
        "from torch import nn\n",
        "\n",
        "# Set device since some classes need info\n",
        "device = torch.device(\"cuda\" if torch.cuda.is_available() else \"cpu\")\n",
        "\n",
        "import re\n",
        "import torch\n",
        "import pandas as pd\n",
        "\n",
        "from torch.utils.data import Dataset, DataLoader\n",
        "from torch.nn.utils.rnn import pad_sequence\n",
        "from collections import Counter\n",
        "from typing import Dict, List, Tuple\n",
        "\n",
        "torch.manual_seed(1019)\n",
        "\n",
        "class IMDBDataset(Dataset):\n",
        "    def __init__(self, csv_path: str, vocab_size: int = 10000, max_length: int = 200):\n",
        "        self.data = pd.read_csv(csv_path)\n",
        "        self.max_length = max_length\n",
        "        self.vocab_size = vocab_size\n",
        "\n",
        "        self.preprocess_data()\n",
        "        self.build_vocabulary()\n",
        "        self.tokenize_reviews()\n",
        "\n",
        "    def preprocess_data(self):\n",
        "        self.data['review'] = self.data['review'].apply(self.clean_text)\n",
        "        self.data['sentiment'] = self.data['sentiment'].map({\"positive\": 1, \"negative\": 0})\n",
        "\n",
        "    def clean_text(self, text: str) -> str:\n",
        "        text = text.lower()\n",
        "        text = re.sub(r\"<br\\s*/?>\", \" \", text)\n",
        "        text = re.sub(r\"[^a-z0-9\\s]\", \"\", text)\n",
        "        return text.strip()\n",
        "\n",
        "    def build_vocabulary(self):\n",
        "        word_freq = Counter()\n",
        "        for review in self.data['review']:\n",
        "            word_freq.update(review.split())\n",
        "\n",
        "        special_tokens = ['<PAD>', '<SOS>']\n",
        "        common_words = [word for word, _ in word_freq.most_common(self.vocab_size - len(special_tokens))]\n",
        "        self.vocab = {word: idx for idx, word in enumerate(special_tokens + common_words)}\n",
        "\n",
        "    def tokenize_reviews(self):\n",
        "        self.tokenized_reviews = []\n",
        "        for review in self.data['review']:\n",
        "            tokens = [self.vocab['<SOS>']]\n",
        "            tokens.extend([self.vocab.get(word, self.vocab['<PAD>']) for word in review.split()[:self.max_length-1]])\n",
        "            self.tokenized_reviews.append(torch.tensor(tokens))\n",
        "\n",
        "    def __len__(self):\n",
        "        return len(self.data)\n",
        "\n",
        "    def __getitem__(self, idx: int) -> Tuple[torch.Tensor, int]:\n",
        "        return self.tokenized_reviews[idx], self.data['sentiment'].iloc[idx]\n",
        "\n",
        "def collate_imdb(batch: List[Tuple[torch.Tensor, int]]) -> Tuple[torch.Tensor, torch.Tensor, torch.Tensor]:\n",
        "    reviews, sentiments = zip(*batch)\n",
        "    padded_reviews = pad_sequence(reviews, batch_first=True, padding_value=0)\n",
        "    lengths = torch.tensor([len(review) for review in reviews])\n",
        "    sentiments = torch.tensor(sentiments, dtype=torch.float32)\n",
        "    return padded_reviews, lengths, sentiments\n",
        "\n",
        "def get_dataloader(csv_path: str, vocab_size: int, max_length: int, batch_size: int, val_split : float) -> Tuple[DataLoader, DataLoader, Dict[str, int]]:\n",
        "    dataset = IMDBDataset(csv_path, vocab_size, max_length)\n",
        "    train_size = 40000\n",
        "    val_size   = (int)(train_size * val_split)\n",
        "    train_dataset, val_dataset, test_dataset = torch.utils.data.random_split(dataset, [train_size, val_size, len(dataset) - train_size - val_size])\n",
        "    train_loader = DataLoader(train_dataset, batch_size=batch_size, shuffle=True,  collate_fn=collate_imdb)\n",
        "    val_loader   = DataLoader(val_dataset,   batch_size=batch_size, shuffle=False, collate_fn=collate_imdb)\n",
        "    test_loader  = DataLoader(test_dataset,  batch_size=batch_size, shuffle=False, collate_fn=collate_imdb)\n",
        "    return train_loader, val_loader, test_loader\n",
        "\n",
        "\n",
        "class AttentionLayer(nn.Module):\n",
        "    def __init__(self,\n",
        "                 d_model : int,\n",
        "                 d_q : int,\n",
        "                 d_k : int,\n",
        "                 d_v : int,\n",
        "                 W_a : nn.Linear = None,\n",
        "                 layer_type : str = 'SDPA',\n",
        "                 idx : int = 0,\n",
        "                 max_len : int = 32):\n",
        "        super().__init__()\n",
        "        self.d_model    = d_model\n",
        "        self.d_q        = d_q\n",
        "        self.d_k        = d_k\n",
        "        self.d_v        = d_v\n",
        "        self.layer_type = layer_type\n",
        "        self.idx        = idx\n",
        "        self.max_len    = max_len\n",
        "        self.W_a        = W_a\n",
        "        self._set_layer_type()\n",
        "\n",
        "    def _set_layer_type(self):\n",
        "        self.softmax = nn.Softmax(dim = 1)\n",
        "        self.W_q     = nn.Linear(self.d_model,self.d_q)\n",
        "        nn.init.xavier_uniform_(self.W_q.weight)\n",
        "        nn.init.constant_(self.W_q.bias, 0)\n",
        "        if self.layer_type == 'Optimised':\n",
        "            self.W_k     = nn.Linear(self.d_model,self.d_k)\n",
        "            nn.init.xavier_uniform_(self.W_k.weight)\n",
        "            nn.init.constant_(self.W_k.bias, 0)\n",
        "            self.forward = self._forward_optimised\n",
        "        elif self.layer_type == 'Efficient':\n",
        "            self.forward = self._forward_efficient\n",
        "        elif self.layer_type == 'Super':\n",
        "            self.forward = self._forward_super\n",
        "        else:\n",
        "            # Default to SDPA\n",
        "            self.W_k     = nn.Linear(self.d_model,self.d_k)\n",
        "            self.W_v     = nn.Linear(self.d_model,self.d_v)\n",
        "            nn.init.xavier_uniform_(self.W_k.weight)\n",
        "            nn.init.constant_(self.W_k.bias, 0)\n",
        "            nn.init.xavier_uniform_(self.W_v.weight)\n",
        "            nn.init.constant_(self.W_v.bias, 0)\n",
        "            self.forward = self._forward_SDPA\n",
        "\n",
        "    def _forward_SDPA(self, inp_q, inp_k, inp_v):\n",
        "        Q     = self.W_q(inp_q)\n",
        "        K     = self.W_k(inp_k)\n",
        "        V     = self.W_v(inp_v)\n",
        "        K_t   = K.permute(0,2,1)\n",
        "        S     = self.softmax((Q @ K_t) / math.sqrt(self.d_q))\n",
        "        H     = S @ V\n",
        "        return H\n",
        "\n",
        "    def _forward_optimised(self, inp_q : torch.Tensor, inp_k : torch.Tensor, inp_v : torch.Tensor):\n",
        "        Q     = self.W_q(inp_q)\n",
        "        K     = self.W_k(inp_k)\n",
        "        K_t   = K.permute(0,2,1)\n",
        "        S     = self.softmax((Q @ K_t) / math.sqrt(self.d_q))\n",
        "        v_lo  = ((self.idx) * self.d_v)\n",
        "        v_hi  = ((self.idx + 1) * self.d_v)\n",
        "        V     = inp_v[:,:, v_lo : v_hi]\n",
        "        H     = S @ V\n",
        "        return H\n",
        "\n",
        "    def _forward_efficient(self, inp_q : torch.Tensor, inp_k : torch.Tensor, inp_v : torch.Tensor):\n",
        "        Q     = self.W_q(inp_q)\n",
        "        lo    = ((self.idx) * self.d_k)\n",
        "        hi    = ((self.idx + 1) * self.d_k)\n",
        "        K_t   = inp_k[:, :, lo : hi].permute(0,2,1)\n",
        "        S     = self.softmax((Q @ K_t) / math.sqrt(self.d_q))\n",
        "        V     = inp_v[:,:, lo : hi]\n",
        "        H     = S @ V\n",
        "        return H\n",
        "\n",
        "    def _forward_super(self, inp_q : torch.Tensor, inp_k : torch.Tensor, inp_v : torch.Tensor):\n",
        "        Q     = self.W_q(inp_q)\n",
        "        lo    = ((self.idx) * self.d_k)\n",
        "        hi    = ((self.idx + 1) * self.d_k)\n",
        "        K_t   = inp_k[:, :, lo : hi].permute(0,2,1)\n",
        "        S     = self.softmax((Q @ K_t) / math.sqrt(self.d_q))\n",
        "        V     = self.W_a(inp_v[:,:, lo : hi].permute(0,2,1)).permute(0,2,1)\n",
        "        H     = S @ V\n",
        "        return H\n",
        "\n",
        "class MultiHeadAttention(nn.Module):\n",
        "    def __init__(self, n_heads, d_model, d_k, d_v, max_len, layer_type):\n",
        "        super().__init__()\n",
        "        self.layers  = nn.Sequential()\n",
        "        self.n_heads = n_heads\n",
        "        self.d_model = d_model\n",
        "        self.d_k     = d_k\n",
        "        self.d_v     = d_v\n",
        "        self.W_a     = None\n",
        "        if layer_type == 'Super':\n",
        "            self.W_a = nn.Linear(max_len,max_len)\n",
        "            nn.init.xavier_uniform_(self.W_a.weight)\n",
        "            nn.init.constant_(self.W_a.bias, 0)\n",
        "        for i in range(n_heads):\n",
        "            self.layers.add_module(\"Attention_Layer \"+str(i),\n",
        "                                   AttentionLayer(d_model,d_k,d_k,d_v,self.W_a,layer_type,i,max_len))\n",
        "        self.W_o     = nn.Linear(n_heads * d_v, d_model)\n",
        "\n",
        "    def forward(self, inp_q, inp_k, inp_v):\n",
        "        for i, layer in enumerate(self.layers):\n",
        "            if i == 0:\n",
        "                H = layer(inp_q,inp_k,inp_v)\n",
        "            else:\n",
        "                h_i = layer(inp_q,inp_k,inp_v)\n",
        "                h_cat = (H.clone(),h_i)\n",
        "                H = torch.cat(h_cat,2)\n",
        "        out = self.W_o(H)\n",
        "        return out\n",
        "\n",
        "\n",
        "\n",
        "\"\"\"\n",
        "## Transformer Block Module\n",
        "\"\"\"\n",
        "class TransformerBlock(nn.Module):\n",
        "    def __init__(self, d_model, num_heads, ff_dim, layer_type = 'SDPA', max_len = 32, dropout_rate=0.1):\n",
        "        super().__init__()\n",
        "        d_k, d_v = d_model // num_heads\n",
        "        self.att = MultiHeadAttention(num_heads, d_model, d_k, d_v, max_len, layer_type)\n",
        "        self.ffn = nn.Sequential(\n",
        "            nn.Linear(d_model, ff_dim),\n",
        "            nn.ReLU(),\n",
        "            nn.Linear(ff_dim, d_model)\n",
        "        )\n",
        "        self.layernorm1 = nn.LayerNorm(d_model, eps=1e-6)\n",
        "        self.layernorm2 = nn.LayerNorm(d_model, eps=1e-6)\n",
        "        self.dropout1 = nn.Dropout(dropout_rate)\n",
        "        self.dropout2 = nn.Dropout(dropout_rate)\n",
        "\n",
        "    def forward(self, x):\n",
        "        attn_output, _ = self.att(x, x, x)\n",
        "        attn_output = self.dropout1(attn_output)\n",
        "        out1 = self.layernorm1(x + attn_output)\n",
        "        ffn_output = self.ffn(out1)\n",
        "        ffn_output = self.dropout2(ffn_output)\n",
        "        return self.layernorm2(out1 + ffn_output)\n",
        "\n",
        "\"\"\"\n",
        "## Embedding Layer\n",
        "\"\"\"\n",
        "class TokenAndPositionEmbedding(nn.Module):\n",
        "    def __init__(self, maxlen, vocab_size, embed_dim):\n",
        "        super().__init__()\n",
        "        self.maxlen = maxlen\n",
        "        self.token_emb = nn.Embedding(num_embeddings=vocab_size, embedding_dim=embed_dim)\n",
        "        self.pos_emb = nn.Embedding(num_embeddings=maxlen, embedding_dim=embed_dim)\n",
        "\n",
        "    def forward(self, x):\n",
        "        positions = torch.arange(self.maxlen, device=x.device)\n",
        "        positions = self.pos_emb(positions)\n",
        "        x = self.token_emb(x)\n",
        "        return x + positions.unsqueeze(0)\n",
        "\n",
        "\"\"\"\n",
        "## Transformer-Encoder-Only Arch\n",
        "\"\"\"\n",
        "class EncoderLayer(nn.Module):\n",
        "    def __init__(self, n_heads, d_model, d_k, d_v, d_lin, max_len, layer_type, drop_p):\n",
        "        super().__init__()\n",
        "        self.multi      = MultiHeadAttention(n_heads,d_model,d_k,d_v,max_len,layer_type)\n",
        "        self.ff         = nn.Sequential(\n",
        "                            nn.Linear(d_model,d_lin),\n",
        "                            nn.ReLU(),\n",
        "                            nn.Linear(d_lin,d_model)\n",
        "                         )\n",
        "        self.norm_multi = nn.LayerNorm(d_model, eps=1e-6)\n",
        "        self.norm_ff    = nn.LayerNorm(d_model, eps=1e-6)\n",
        "        self.drop_multi = nn.Dropout(drop_p)\n",
        "        self.drop_ff    = nn.Dropout(drop_p)\n",
        "    def forward(self, inp):\n",
        "        multi = self.multi(inp,inp,inp)\n",
        "        multi = self.drop_multi(multi)\n",
        "        z     = self.norm_multi(inp + multi)\n",
        "        ff    = self.ff(z)\n",
        "        ff    = self.drop_ff(ff)\n",
        "        return self.norm_ff(z + ff)\n",
        "\n",
        "class Encoder(nn.Module):\n",
        "    def __init__(self, n_heads, d_model, d_k, d_v, d_lin, n_layers, vocab_size, max_len, layer_type, drop_p):\n",
        "        super().__init__()\n",
        "        self.encoder_layers  = nn.Sequential()\n",
        "        self.embedding       = TokenAndPositionEmbedding(max_len,vocab_size,d_model)\n",
        "        self.n_layers        = n_layers\n",
        "        for i in range(n_layers):\n",
        "            self.encoder_layers.add_module(\"Encoder_Layer\"+str(i),EncoderLayer(n_heads,\n",
        "                                                                               d_model,\n",
        "                                                                               d_k,\n",
        "                                                                               d_v,\n",
        "                                                                               d_lin,\n",
        "                                                                               max_len,\n",
        "                                                                               layer_type,\n",
        "                                                                               drop_p))\n",
        "    def forward(self, inp):\n",
        "        embed_i = self.embedding(inp)\n",
        "        for layer in self.encoder_layers:\n",
        "            embed_i     = layer(embed_i)\n",
        "        return embed_i\n",
        "\n",
        "class Transformer(nn.Module):\n",
        "    def __init__(self,\n",
        "                 vocab_size = 20000,\n",
        "                 n_heads    = 4,\n",
        "                 d_model    = 32,\n",
        "                 d_k        = 8,\n",
        "                 d_v        = 8,\n",
        "                 d_lin      = 32,\n",
        "                 n_layers   = 1,\n",
        "                 max_len    = 32,\n",
        "                 layer_type = 'SDPA',\n",
        "                 drop_p     = 0.1):\n",
        "        super().__init__()\n",
        "        d_k = d_model // n_heads\n",
        "        d_v = d_k\n",
        "        self.encoder         = Encoder(n_heads,d_model,d_k,d_v,d_lin,n_layers,vocab_size,max_len,layer_type,drop_p)\n",
        "        self.global_avg_pool = nn.AdaptiveAvgPool1d(1)\n",
        "        self.dropout1        = nn.Dropout(0.1)\n",
        "        self.dense1          = nn.Linear(d_model, 6)\n",
        "        self.dropout2        = nn.Dropout(0.1)\n",
        "        self.dense2          = nn.Linear(6, 1)\n",
        "\n",
        "    def forward(self, inp):\n",
        "        x = self.encoder(inp)\n",
        "        x = x.transpose(1,2)\n",
        "        x = self.global_avg_pool(x).squeeze(2)\n",
        "        x = self.dropout1(x)\n",
        "        x = torch.relu(self.dense1(x))\n",
        "        x = self.dropout2(x)\n",
        "        res = self.dense2(x)\n",
        "        return res\n",
        "\n",
        "\"\"\"\n",
        "## Training Loop\n",
        "\"\"\"\n",
        "def train_loop(device, model, optim, loader, loss_func, epoch, train=False):\n",
        "    model.train(mode=train)\n",
        "    total_loss    = 0\n",
        "    total_correct = 0\n",
        "    n_samples     = 0\n",
        "    label         = 'Training' if train else 'Test'\n",
        "    for reviews, _, labels in tqdm(loader, desc=f'{label} Epoch: {epoch}'):\n",
        "        reviews = reviews.to(device)\n",
        "        labels = labels.to(device)\n",
        "        #Forward\n",
        "        if train:\n",
        "            optim.zero_grad()\n",
        "            logits = model(reviews)\n",
        "            loss = loss_func(logits, labels.reshape(logits.shape))\n",
        "            loss.backward()\n",
        "            optim.step()\n",
        "        else:\n",
        "            with torch.no_grad():\n",
        "                logits = model(reviews)\n",
        "                loss   = loss_func(logits, labels.reshape(logits.shape))\n",
        "        #Predictions\n",
        "        preds = (logits > 0.5).float()\n",
        "        #Compute accuracy\n",
        "        acc = torch.sum(preds == labels.reshape(logits.shape))\n",
        "        #Track stats\n",
        "        total_loss += reviews.shape[0] * loss\n",
        "        n_samples += reviews.shape[0]\n",
        "        total_correct += acc\n",
        "    return total_loss / n_samples, total_correct / n_samples\n",
        "\n",
        "\"\"\"\n",
        "## Checkpoint Callbacks\n",
        "\"\"\"\n",
        "def save_checkpoint(model, optimizer, epoch, best_metric, filename):\n",
        "    state = {\n",
        "        'model_state_dict': model.state_dict(),\n",
        "        'optimizer_state_dict': optimizer.state_dict(),\n",
        "        'epoch': epoch,\n",
        "        'best_metric': best_metric\n",
        "    }\n",
        "    torch.save(state, filename)\n",
        "\n",
        "def load_checkpoint(model, optimizer, filename):\n",
        "    checkpoint = torch.load(filename)\n",
        "    model.load_state_dict(checkpoint['model_state_dict'])\n",
        "    optimizer.load_state_dict(checkpoint['optimizer_state_dict'])\n",
        "    epoch = checkpoint['epoch']\n",
        "    best_metric = checkpoint['best_metric']\n",
        "    return model, optimizer, epoch, best_metric\n",
        "\n",
        "def count_parameters(model):\n",
        "    table = PrettyTable([\"Modules\", \"Parameters\"])\n",
        "    total_params = 0\n",
        "    for name, parameter in model.named_parameters():\n",
        "        if not parameter.requires_grad:\n",
        "            continue\n",
        "        if (\"attention\" in name.lower()) or (\"w_o\" in name.lower()):\n",
        "            params = parameter.numel()\n",
        "            table.add_row([name, params])\n",
        "            total_params += params\n",
        "    return total_params\n",
        "\n",
        "def main():\n",
        "    # Initialize hyperparameters\n",
        "    vocab_size        = 20000\n",
        "    batch_size        = 64\n",
        "    d_model           = 32\n",
        "    ff_dim            = 32\n",
        "    max_len           = 32\n",
        "    num_epochs        = 1\n",
        "    num_runs          = 5\n",
        "    n_heads           = 4\n",
        "    n_layers          = 1\n",
        "    drop_p            = 0.1\n",
        "    val_split         = 0.1\n",
        "    layers            = ['SDPA','Optimised', 'Efficient', 'Super']\n",
        "\n",
        "    # Load data\n",
        "    train_dataloader, val_dataloader, test_dataloader = get_dataloader(\"./IMDB_Dataset.csv\",\n",
        "                                                                       vocab_size,\n",
        "                                                                       max_len,\n",
        "                                                                       batch_size,\n",
        "                                                                       val_split)\n",
        "    for layer_type in layers:\n",
        "        avg_train_loss  = 0\n",
        "        avg_train_acc   = 0\n",
        "        avg_test_loss   = 0\n",
        "        avg_test_acc    = 0\n",
        "        avg_model_size  = 0\n",
        "        num_params      = 0\n",
        "        run_times       = []\n",
        "        for _ in range(num_runs):\n",
        "            # Initialize model, optimizer, and criterion and train/test the model\n",
        "            print(f\"Working with layer type: {layer_type}\")\n",
        "            model_name  = 'best_model.pth'\n",
        "            transformer = Transformer(vocab_size=vocab_size,\n",
        "                                      n_heads=n_heads,\n",
        "                                      n_layers=n_layers,\n",
        "                                      d_model=d_model,\n",
        "                                      d_lin=ff_dim,\n",
        "                                      max_len=max_len,\n",
        "                                      drop_p = drop_p,\n",
        "                                      layer_type = layer_type)\n",
        "            transformer = transformer.to(device)\n",
        "            #Setup loss function and optimizer\n",
        "            loss_func = nn.BCEWithLogitsLoss()\n",
        "            #Performs slightly differently than Keras optimizer\n",
        "            optim = torch.optim.Adam(transformer.parameters(),lr=1e-3)\n",
        "            start_time       = time.time()\n",
        "            best_val_acc     = -float('inf')\n",
        "            for epoch in range(num_epochs):\n",
        "                train_loss, train_acc = train_loop(device,transformer,optim,train_dataloader,loss_func,epoch,True)\n",
        "                val_loss, val_acc     = train_loop(device,transformer,optim,val_dataloader,loss_func,epoch,False)\n",
        "                #Print Results per epoch\n",
        "                print(f\" Epoch {epoch}: Train loss: {round(train_loss.item(), 4)} |  Train acc: {round(train_acc.item(), 4)} | \\\n",
        "                Val loss: {round(val_loss.item(), 4)} | Val acc: {round(val_acc.item(), 4)}\")\n",
        "                #Check if our model improved\n",
        "                if val_acc >= best_val_acc:\n",
        "                    best_val_acc = val_acc\n",
        "                    save_checkpoint(transformer, optim, epoch, best_val_acc, model_name)\n",
        "            end_time = time.time()\n",
        "            # Check the best models performance\n",
        "            best_model, best_optim, start_epoch, _ = load_checkpoint(transformer, optim, model_name)\n",
        "            test_loss, test_acc   = train_loop(device,best_model,best_optim,test_dataloader,loss_func,start_epoch,False)\n",
        "            print(f\"Best Model: Test Acc {test_acc} | Test Loss {test_loss} \\n\")\n",
        "            # Check the size of the best model\n",
        "            param_size  = 0\n",
        "            for param in best_model.parameters():\n",
        "                param_size  += param.nelement() * param.element_size()\n",
        "            buffer_size = 0\n",
        "            for buffer in best_model.buffers():\n",
        "                buffer_size += buffer.nelement() * buffer.element_size()\n",
        "            size_all_mb = (param_size + buffer_size) / 1024**2\n",
        "            # Count number of parameters\n",
        "            num_params = count_parameters(transformer)\n",
        "            # Accumulate results\n",
        "            avg_train_loss += train_loss\n",
        "            avg_train_acc  += train_acc\n",
        "            avg_test_loss  += test_loss\n",
        "            avg_test_acc   += test_acc\n",
        "            avg_model_size += size_all_mb\n",
        "            run_times.append(end_time-start_time)\n",
        "        run_times.sort()\n",
        "        med_run_time = run_times[len(run_times) // 2]\n",
        "        file_name = f\"{layer_type}_results_final.txt\"\n",
        "        f = open(file_name,\"a\")\n",
        "        f.write(f\"Average Train Acc over {num_runs} for {layer_type}: {avg_train_acc / num_runs} \\n\")\n",
        "        f.write(f\"Average Train Loss over {num_runs} for {layer_type}: {avg_train_loss / num_runs} \\n\")\n",
        "        f.write(f\"Average Test Acc over {num_runs} for {layer_type}: {avg_test_acc / num_runs} \\n\")\n",
        "        f.write(f\"Average Test Loss over {num_runs} for {layer_type}: {avg_test_loss / num_runs} \\n\")\n",
        "        f.write(f\"Average Model Size over {num_runs} for {layer_type}: {avg_model_size / num_runs} \\n\")\n",
        "        f.write(f\"Median Run Time over {num_runs} for {layer_type}: {med_run_time} \\n\")\n",
        "        f.write(f\"Number of parameters: {num_params} \\n\")\n",
        "        f.write(\"\\n\")\n",
        "        f.close()\n",
        "\n",
        "\n",
        "\n",
        "if __name__ == '__main__':\n",
        "    main()\n",
        "\n",
        "\n",
        "\n",
        "\n",
        "\n"
      ]
    }
  ],
  "metadata": {
    "accelerator": "GPU",
    "colab": {
      "gpuType": "T4",
      "provenance": []
    },
    "kernelspec": {
      "display_name": "Python 3",
      "name": "python3"
    },
    "language_info": {
      "name": "python"
    }
  },
  "nbformat": 4,
  "nbformat_minor": 0
}